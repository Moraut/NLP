{
 "nbformat": 4,
 "nbformat_minor": 2,
 "metadata": {
  "language_info": {
   "name": "python",
   "codemirror_mode": {
    "name": "ipython",
    "version": 3
   },
   "version": "3.7.3-final"
  },
  "orig_nbformat": 2,
  "file_extension": ".py",
  "mimetype": "text/x-python",
  "name": "python",
  "npconvert_exporter": "python",
  "pygments_lexer": "ipython3",
  "version": 3,
  "kernelspec": {
   "name": "python37364bitcontinuumvirtualenv10ad6c9323604c99838282ece7da5e87",
   "display_name": "Python 3.7.3 64-bit ('Continuum': virtualenv)"
  }
 },
 "cells": [
  {
   "cell_type": "markdown",
   "execution_count": null,
   "metadata": {},
   "outputs": [],
   "source": [
    "## Import Packages"
   ]
  },
  {
   "cell_type": "code",
   "execution_count": 25,
   "metadata": {},
   "outputs": [
    {
     "name": "stderr",
     "output_type": "stream",
     "text": "[nltk_data] Downloading package punkt to\n[nltk_data]     C:\\Users\\mr14290\\AppData\\Roaming\\nltk_data...\n[nltk_data]   Package punkt is already up-to-date!\n[nltk_data] Downloading package averaged_perceptron_tagger to\n[nltk_data]     C:\\Users\\mr14290\\AppData\\Roaming\\nltk_data...\n[nltk_data]   Package averaged_perceptron_tagger is already up-to-\n[nltk_data]       date!\n[nltk_data] Downloading package maxent_ne_chunker to\n[nltk_data]     C:\\Users\\mr14290\\AppData\\Roaming\\nltk_data...\n[nltk_data]   Package maxent_ne_chunker is already up-to-date!\n[nltk_data] Downloading package words to\n[nltk_data]     C:\\Users\\mr14290\\AppData\\Roaming\\nltk_data...\n[nltk_data]   Unzipping corpora\\words.zip.\n"
    },
    {
     "data": {
      "text/plain": "True"
     },
     "execution_count": 25,
     "metadata": {},
     "output_type": "execute_result"
    }
   ],
   "source": [
    "import matplotlib.pyplot as plt\n",
    "import re\n",
    "# Import necessary modules\n",
    "import nltk\n",
    "from nltk.tokenize import word_tokenize\n",
    "from nltk.tokenize import sent_tokenize\n",
    "from nltk.tokenize import regexp_tokenize\n",
    "from nltk.tokenize import TweetTokenizer\n",
    "nltk.download('punkt')\n",
    "nltk.download('averaged_perceptron_tagger')\n",
    "nltk.download('maxent_ne_chunker')\n",
    "nltk.download('words')"
   ]
  },
  {
   "cell_type": "markdown",
   "execution_count": null,
   "metadata": {},
   "outputs": [],
   "source": [
    "# Regular expressions & word tokenization"
   ]
  },
  {
   "cell_type": "markdown",
   "execution_count": null,
   "metadata": {},
   "outputs": [],
   "source": [
    "## Tokenize"
   ]
  },
  {
   "cell_type": "code",
   "execution_count": 2,
   "metadata": {},
   "outputs": [],
   "source": [
    "my_string = \"Let's write RegEx!  Won't that be fun?  I sure think so.  Can you find 4 sentences?  Or perhaps, all 19 words?\""
   ]
  },
  {
   "cell_type": "code",
   "execution_count": 3,
   "metadata": {},
   "outputs": [
    {
     "name": "stdout",
     "output_type": "stream",
     "text": "[\"Let's write RegEx\", \"  Won't that be fun\", '  I sure think so', '  Can you find 4 sentences', '  Or perhaps, all 19 words', '']\n['Let', 'RegEx', 'Won', 'Can', 'Or']\n[\"Let's\", 'write', 'RegEx!', \"Won't\", 'that', 'be', 'fun?', 'I', 'sure', 'think', 'so.', 'Can', 'you', 'find', '4', 'sentences?', 'Or', 'perhaps,', 'all', '19', 'words?']\n['4', '19']\n"
    }
   ],
   "source": [
    "# Write a pattern to match sentence endings: sentence_endings\n",
    "sentence_endings = \"[.?!]\"\n",
    "\n",
    "# Split my_string on sentence endings and print the result\n",
    "print(re.split(sentence_endings,my_string))\n",
    "\n",
    "# Find all capitalized words in my_string and print the result\n",
    "capitalized_words = r\"[A-Z]\\w+\"\n",
    "print(re.findall(capitalized_words, my_string))\n",
    "\n",
    "# Split my_string on spaces and print the result\n",
    "spaces = r\"\\s+\"\n",
    "print(re.split(spaces,my_string))\n",
    "\n",
    "# Find all digits in my_string and print the result\n",
    "digits = r\"\\d+\"\n",
    "print(re.findall(digits, my_string))"
   ]
  },
  {
   "cell_type": "code",
   "execution_count": 4,
   "metadata": {},
   "outputs": [],
   "source": [
    "scene_one = \"SCENE 1: [wind] [clop clop clop] \\nKING ARTHUR: Whoa there!  [clop clop clop] \\nSOLDIER #1: Halt!  Who goes there?\\nARTHUR: It is I, Arthur, son of Uther Pendragon, from the castle of Camelot.  King of the Britons, defeator of the Saxons, sovereign of all England!\\nSOLDIER #1: Pull the other one!\\nARTHUR: I am, ...  and this is my trusty servant Patsy.  We have ridden the length and breadth of the land in search of knights who will join me in my court at Camelot.  I must speak with your lord and master.\\nSOLDIER #1: What?  Ridden on a horse?\\nARTHUR: Yes!\\nSOLDIER #1: You're using coconuts!\\nARTHUR: What?\\nSOLDIER #1: You've got two empty halves of coconut and you're bangin' 'em together.\\nARTHUR: So?  We have ridden since the snows of winter covered this land, through the kingdom of Mercea, through--\\nSOLDIER #1: Where'd you get the coconuts?\\nARTHUR: We found them.\\nSOLDIER #1: Found them?  In Mercea?  The coconut's tropical!\\nARTHUR: What do you mean?\\nSOLDIER #1: Well, this is a temperate zone.\\nARTHUR: The swallow may fly south with the sun or the house martin or the plover may seek warmer climes in winter, yet these are not strangers to our land?\\nSOLDIER #1: Are you suggesting coconuts migrate?\\nARTHUR: Not at all.  They could be carried.\\nSOLDIER #1: What?  A swallow carrying a coconut?\\nARTHUR: It could grip it by the husk!\\nSOLDIER #1: It's not a question of where he grips it!  It's a simple question of weight ratios!  A five ounce bird could not carry a one pound coconut.\\nARTHUR: Well, it doesn't matter.  Will you go and tell your master that Arthur from the Court of Camelot is here.\\nSOLDIER #1: Listen.  In order to maintain air-speed velocity, a swallow needs to beat its wings forty-three times every second, right?\\nARTHUR: Please!\\nSOLDIER #1: Am I right?\\nARTHUR: I'm not interested!\\nSOLDIER #2: It could be carried by an African swallow!\\nSOLDIER #1: Oh, yeah, an African swallow maybe, but not a European swallow.  That's my point.\\nSOLDIER #2: Oh, yeah, I agree with that.\\nARTHUR: Will you ask your master if he wants to join my court at Camelot?!\\nSOLDIER #1: But then of course a-- African swallows are non-migratory.\\nSOLDIER #2: Oh, yeah...\\nSOLDIER #1: So they couldn't bring a coconut back anyway...  [clop clop clop] \\nSOLDIER #2: Wait a minute!  Supposing two swallows carried it together?\\nSOLDIER #1: No, they'd have to have it on a line.\\nSOLDIER #2: Well, simple!  They'd just use a strand of creeper!\\nSOLDIER #1: What, held under the dorsal guiding feathers?\\nSOLDIER #2: Well, why not?\\n\""
   ]
  },
  {
   "cell_type": "code",
   "execution_count": 5,
   "metadata": {},
   "outputs": [
    {
     "name": "stdout",
     "output_type": "stream",
     "text": "{'maintain', 'court', 'ask', 'second', 'there', 'castle', 'climes', 'velocity', 'Whoa', 'who', 'A', 'African', 'seek', 'may', 'zone', 'migrate', 'needs', 'In', 'yet', 'course', 'ounce', 'Who', 'with', 'house', 'sovereign', 'swallow', 'length', 'get', 'They', 'Listen', ',', 'one', '--', 'since', ']', 'sun', 'plover', 'Ridden', 'You', '!', 'be', 'maybe', 'martin', 'fly', 'could', '2', 'The', 'does', 'So', 'wind', 'dorsal', \"'d\", 'it', '.', \"n't\", 'use', \"'ve\", 'point', 'coconut', 'beat', 'forty-three', 'guiding', 'join', 'have', 'Britons', 'speak', 'Please', 'swallows', 'five', 'Camelot', 'winter', 'your', 'all', 'England', 'to', 'son', 'wings', 'times', 'simple', 'two', 'husk', 'ratios', 'Are', 'using', 'Where', 'Wait', 'Oh', 'ARTHUR', 'What', 'non-migratory', 'held', 'grip', 'goes', 'he', 'on', 'carry', 'every', 'and', 'Yes', \"'em\", 'Am', 'No', 'back', 'We', 'Pendragon', 'found', 'lord', 'King', 'Halt', 'yeah', 'weight', 'pound', 'if', 'these', 'south', 'halves', \"'m\", 'master', 'defeator', 'my', 'them', 'knights', 'this', '#', 'not', 'carried', \"'\", 'in', 'KING', '1', 'the', 'am', 'temperate', 'servant', 'where', 'under', 'or', 'Pull', 'That', '[', 'Supposing', 'you', 'bangin', 'Not', 'creeper', '...', \"'s\", 'that', 'tropical', 'matter', 'grips', 'ridden', 'are', 'trusty', 'SCENE', 'It', 'bird', 'but', 'strand', 'me', 'empty', 'line', 'anyway', 'mean', 'search', 'land', 'suggesting', 'Court', 'warmer', 'carrying', 'horse', 'here', 'agree', 'bring', 'must', \"'re\", 'Patsy', 'kingdom', 'do', 'interested', 'an', 'I', 'Mercea', 'then', 'clop', 'got', '?', 'order', 'they', 'air-speed', 'feathers', 'is', 'SOLDIER', 'coconuts', 'from', 'other', 'of', 'go', 'tell', 'right', 'European', ':', 'minute', 'Uther', 'strangers', 'its', 'breadth', 'Found', 'But', 'why', 'Well', 'together', 'just', 'at', 'our', 'a', 'Saxons', 'by', 'Arthur', 'covered', 'wants', 'through', 'question', 'snows', 'Will', 'will'}\n"
    }
   ],
   "source": [
    "# Split scene_one into sentences: sentences\n",
    "sentences = sent_tokenize(scene_one)\n",
    "\n",
    "# # Use word_tokenize to tokenize the fourth sentence: tokenized_sent\n",
    "tokenized_sent = word_tokenize(sentences[3])\n",
    "\n",
    "# # Make a set of unique tokens in the entire scene: unique_tokens\n",
    "unique_tokens = set(word_tokenize(scene_one))\n",
    "\n",
    "# # Print the unique tokens result\n",
    "print(unique_tokens)"
   ]
  },
  {
   "cell_type": "markdown",
   "execution_count": null,
   "metadata": {},
   "outputs": [],
   "source": [
    "## Match  vs Search"
   ]
  },
  {
   "cell_type": "code",
   "execution_count": 6,
   "metadata": {},
   "outputs": [
    {
     "name": "stdout",
     "output_type": "stream",
     "text": "580 588\n"
    }
   ],
   "source": [
    "# Search for the first occurrence of \"coconuts\" in scene_one: match\n",
    "match = re.search(\"coconuts\", scene_one)\n",
    "\n",
    "# Print the start and end indexes of match\n",
    "print(match.start(), match.end())"
   ]
  },
  {
   "cell_type": "code",
   "execution_count": 7,
   "metadata": {},
   "outputs": [
    {
     "name": "stdout",
     "output_type": "stream",
     "text": "<re.Match object; span=(9, 32), match='[wind] [clop clop clop]'>\n"
    }
   ],
   "source": [
    "# Write a regular expression to search for anything in square brackets: pattern1\n",
    "pattern1 = r\"\\[.*\\]\"\n",
    "\n",
    "# Use re.search to find the first text in square brackets\n",
    "print(re.search(pattern1, scene_one))"
   ]
  },
  {
   "cell_type": "code",
   "execution_count": 8,
   "metadata": {},
   "outputs": [
    {
     "name": "stdout",
     "output_type": "stream",
     "text": "ARTHUR: It is I, Arthur, son of Uther Pendragon, from the castle of Camelot.\n<re.Match object; span=(0, 7), match='ARTHUR:'>\n"
    }
   ],
   "source": [
    "# Find the script notation at the beginning of the fourth sentence and print it\n",
    "print(sentences[3])\n",
    "pattern2 = r\"^(.+?):\"\n",
    "print(re.search(pattern2, sentences[3]))"
   ]
  },
  {
   "cell_type": "markdown",
   "execution_count": null,
   "metadata": {},
   "outputs": [],
   "source": [
    "## Choosing a Tokenizer"
   ]
  },
  {
   "cell_type": "code",
   "execution_count": 9,
   "metadata": {},
   "outputs": [
    {
     "name": "stdout",
     "output_type": "stream",
     "text": "['#nlp', '#python']\n['@datacamp', '#nlp', '#python']\n[['This', 'is', 'the', 'best', '#nlp', 'exercise', 'ive', 'found', 'online', '!', '#python'], ['#NLP', 'is', 'super', 'fun', '!', '<3', '#learning'], ['Thanks', '@datacamp', ':)', '#nlp', '#python']]\n"
    }
   ],
   "source": [
    "tweets = ['This is the best #nlp exercise ive found online! #python', '#NLP is super fun! <3 #learning', 'Thanks @datacamp :) #nlp #python']\n",
    "\n",
    "# Define a regex pattern to find hashtags: pattern1\n",
    "pattern1 = r\"#\\w+\"\n",
    "# Use the pattern on the first tweet in the tweets list\n",
    "hashtags = regexp_tokenize(tweets[0], pattern1)\n",
    "print(hashtags)\n",
    "\n",
    "# Write a pattern that matches both mentions (@) and hashtags\n",
    "pattern2 = r\"([@|#]\\w+)\"\n",
    "# Use the pattern on the last tweet in the tweets list\n",
    "mentions_hashtags = regexp_tokenize(tweets[-1], pattern2)\n",
    "print(mentions_hashtags)\n",
    "\n",
    "# Use the TweetTokenizer to tokenize all tweets into one list\n",
    "tknzr = TweetTokenizer()\n",
    "all_tokens = [tknzr.tokenize(t) for t in tweets]\n",
    "print(all_tokens)"
   ]
  },
  {
   "cell_type": "code",
   "execution_count": 10,
   "metadata": {},
   "outputs": [
    {
     "name": "stdout",
     "output_type": "stream",
     "text": "['Wann', 'gehen', 'wir', 'Pizza', 'essen', '?', '🍕', 'Und', 'fährst', 'du', 'mit', 'Über', '?', '🚕']\n['Wann', 'Pizza', 'Und', 'Über']\n['🍕', '🚕']\n"
    }
   ],
   "source": [
    "german_text = 'Wann gehen wir Pizza essen? 🍕 Und fährst du mit Über? 🚕'\n",
    "# Tokenize and print all words in german_text\n",
    "all_words = word_tokenize(german_text)\n",
    "print(all_words)\n",
    "\n",
    "# Tokenize and print only capital words\n",
    "capital_words = r\"[A-Z|Ü]\\w+\"\n",
    "print(regexp_tokenize(german_text,capital_words))\n",
    "\n",
    "# Tokenize and print only emoji\n",
    "emoji = \"['\\U0001F300-\\U0001F5FF'|'\\U0001F600-\\U0001F64F'|'\\U0001F680-\\U0001F6FF'|'\\u2600-\\u26FF\\u2700-\\u27BF']\"\n",
    "print(regexp_tokenize(german_text, emoji))"
   ]
  },
  {
   "cell_type": "markdown",
   "execution_count": null,
   "metadata": {},
   "outputs": [],
   "source": [
    "## Charting practice"
   ]
  },
  {
   "cell_type": "code",
   "execution_count": 11,
   "metadata": {},
   "outputs": [
    {
     "data": {
      "text/plain": "we will say...  \\'ni\\'.\\\\nCRONE: Agh!  Do your worst!\\\\nARTHUR: Very well!  If you will not assist us voluntarily, ...  ni!\\\\nCRONE: No!  Never!  No shrubberies!\\\\nARTHUR: Ni!\\\\nCRONE: [cough] \\\\nBEDEVERE: Nu!\\\\nARTHUR: No, no, no, no...\\\\nBEDEVERE: Nu!\\\\nARTHUR: No, it\\'s not that, it\\'s \\'ni\\'.\\\\nBEDEVERE: Nu!\\\\nARTHUR: No, no-- \\'ni\\'.  You\\'re not doing it properly.  No.\\\\nBEDEVERE: Ni!\\\\nARTHUR and BEDEVERE: Ni!\\\\nARTHUR: That\\'s it.  That\\'s it.  You\\'ve got it.\\\\nARTHUR and BEDEVERE: Ni!\\\\nCRONE: Ohh!\\\\nBEDEVERE: Ni!\\\\nARTHUR: Ni!\\\\nCRONE: Agh!\\\\nBEDEVERE: Ni!\\\\nARTHUR: Ni!\\\\nBEDEVERE: Ni!\\\\nARTHUR: Ni!\\\\nBEDEVERE: Ni!\\\\nROGER THE SHRUBBER: Are you saying \\'ni\\' to that old woman?\\\\nARTHUR: Erm, yes.\\\\nROGER: Oh, what sad times are these when passing ruffians can \\'ni\\' at will to old ladies.  There is a pestilence upon this land.  Nothing is sacred. Even those who arrange and design shrubberies are under considerable economic stress at this period in history.\\\\nARTHUR: Did you say \\'shrubberies\\'?\\\\nROGER: Yes.  Shrubberies are my trade.  I am a shrubber.  My name is Roger the Shrubber.  I arrange, design, and sell shrubberies.\\\\nBEDEVERE: Ni!\\\\nARTHUR: No!  No, no, no!  No\\\\nSCENE 19:\\\\nARTHUR: O Knights of Ni, we have brought you your shrubbery.  May we go now?\\\\nHEAD KNIGHT: It is a good shrubbery.  I like the laurels particularly.  But there is one small problem.\\\\nARTHUR: What is that?\\\\nHEAD KNIGHT: We are now...  no longer the Knights Who Say \\'Ni\\'.\\\\nKNIGHTS OF NI: Ni!  Shh!\\\\nHEAD KNIGHT: Shh!  We are now the Knights Who Say \\'Ecky-ecky-ecky-ecky-pikang-zoop-boing-goodem-zoo-owli-zhiv\\'.\\\\nRANDOM: Ni!\\\\nHEAD KNIGHT: Therefore, we must give you a test.\\\\nARTHUR: What is this test, O Knights of-- Knights Who \\'Til Recently Said \\'Ni\\'?\\\\nHEAD KNIGHT: Firstly, you must find...  another shrubbery! [dramatic chord] \\\\nARTHUR: Not another shrubbery!\\\\nRANDOM: Ni!\\\\nHEAD KNIGHT: Then, when you have found the shrubbery, you must place it here beside this shrubbery, only slightly higher so you get the two-level effect with a little path running down the middle.\\\\nKNIGHTS OF NI: A path!  A path!  A path!  Ni!  Shh!  Ni!  Ni!  Ni!  Shh!  Shh! ...\\\\nHEAD KNIGHT: Then, when you have found the shrubbery, you must cut down the mightiest tree in the forest...  with...  a herring! [dramatic chord] \\\\nARTHUR: We shall do no such thing!\\\\nHEAD KNIGHT: Oh, please!\\\\nARTHUR: Cut down a tree with a herring?  It can\\'t be done.\\\\nKNIGHTS OF NI: Aaaugh!  Aaaugh!\\\\nHEAD KNIGHT: Augh!  Ohh!  Don\\'t say that word.\\\\nARTHUR: What word?\\\\nHEAD KNIGHT: I cannot tell, suffice to say is one of the words the Knights of Ni cannot hear.\\\\nARTHUR: How can we not say the word if you don\\'t tell us what it is?\\\\nKNIGHTS OF NI: Aaaaugh!\\\\nHEAD KNIGHT: You said it again!\\\\nARTHUR: What, \\'is\\'?\\\\nKNIGHTS OF NI: Agh!  No, not \\'is\\'.\\\\nHEAD KNIGHT: No, not \\'is\\'.  You wouldn\\'t get vary far in life not saying \\'is\\'.\\\\nKNIGHTS OF NI: No, not \\'is\\'.  Not \\'is\\'.\\\\nBEDEVERE: My liege, it\\'s Sir Robin!\\\\nMINSTREL: [singing] Packing it in and packing it up, And sneaking away and buggering up, And chickening out and pissing off home, Yes, bravely he is throwing in the sponge.\\\\nARTHUR: Sir Robin!\\\\nROBIN: My liege!  It\\'s good to see you.\\\\nHEAD KNIGHT: Now he\\'s said the word!  \\\\nARTHUR: Surely you\\'ve not given up your quest for the Holy Grail?\\\\nMINSTREL: [singing] He is sneaking away and buggering up--\\\\nROBIN: Shut up!  No, no.  No.  Far from it.\\\\nHEAD KNIGHT: He said the word again!\\\\nKNIGHTS OF NI: Aaaaugh!\\\\nROBIN: I was looking for it.\\\\nKNIGHTS OF NI: Aaaaugh!\\\\nROBIN: Uh, here-- here in this forest.\\\\nARTHUR: No, it is far from this place.\\\\nKNIGHTS OF NI: Aaaaugh!\\\\nHEAD KNIGHT: Aaaaugh!  Stop saying the word!  The word...\\\\nARTHUR: Oh, stop it!\\\\nKNIGHTS OF NI: ... we cannot hear!\\\\nHEAD KNIGHT: Ow!  He said it again!\\\\nARTHUR: Patsy!\\\\nHEAD KNIGHT: Wait!  I said it!  I said it! [clop clop clop] Ooh!  I said it again!  And there again!  That\\'s three \\'it\\'s!  Ohh!\\\\nKNIGHTS OF NI: Aaaaugh\\\\nNARRATOR: And so, Arthur and Bedevere and Sir Robin set out on their search to find the enchanter of whom the old man had spoken in scene twenty-four.  Beyond the forest they met Launcelot and Galahad, and there was much rejoicing.\\\\nKNIGHTS: Yay!  Yay! [woosh] \\\\nNARRATOR: In the frozen land of Nador, they were forced to eat Robin\\'s minstrels.\\\\nMINSTREL: [high-pitched] Get back!  Eee!\\\\nNARRATOR: And there was much rejoicing.\\\\nKNIGHTS: Yay!\\\\nNARRATOR: A year passed.\\\\nCARTOON CHARACTER: [shivering] \\\\nNARRATOR: Winter changed into Spring.\\\\nCARTOON CHARACTER: Mmm, nice.\\\\nNARRATOR: Spring changed into Summer.\\\\nCARTOON CHARACTER: Oh.  Ahh.\\\\nNARRATOR: Summer changed back into Winter.\\\\nCARTOON CHARACTER: Oh?\\\\nNARRATOR: And Winter gave Spring and Summer a miss and went straight on into Autumn.\\\\nCARTOON CHARACTER: Aah. [snap] Oh!  Waa!\\\\nNARRATOR: Until one day..\\\\nSCENE 20: [King Arthur music] [clop clop clop] [music stops] [boom] \\\\nKNIGHTS: Eh.  Oh.  See it?  Oh.  Oh.\\\\nARTHUR: Knights!  Forward! [boom boom boom boom boom] [squeak] [boom boom boom boom] What manner of man are you that can summon up fire without flint or tinder?\\\\nTIM THE ENCHANTER: I...  am an enchanter.\\\\nARTHUR: By what name are you known?\\\\nTIM: There are some who call me...  Tim?\\\\nARTHUR: Greetings, Tim the Enchanter.\\\\nTIM: Greetings, King Arthur!\\\\nARTHUR: You know my name?\\\\nTIM: I do. [zoosh] You seek the Holy Grail!\\\\nARTHUR: That is our quest.  You know much that is hidden, O Tim.\\\\nTIM: Quite. [pweeng boom] [clap clap clap] \\\\nROBIN: Oh.\\\\nARTHUR: Yes, we\\'re-- we\\'re looking for the Holy Grail.  Our quest is to find the Holy Grail.\\\\nKNIGHTS: Yeah.  Yes.  It is.  It is.  Yeah.  Yup.  Yup.  Hm.\\\\nARTHUR: And so we\\'re-- we\\'re-- we\\'re-- we\\'re looking for it.\\\\nBEDEVERE: Yes, we are.\\\\nGALAHAD: Yeah.  \\\\nROBIN: We are.  We are.\\\\nBEDEVERE: We have been for some time.\\\\nROBIN: Ages.\\\\nBEDEVERE: Umhm.\\\\nARTHUR: Uh-- uh, so, uh, anything that you could do to, uh-- to help, would be...  very...  helpful.\\\\nGALAHAD: Look, can you tell us where-- [boom] \\\\nARTHUR: Fine.  Um, I don\\'t want to waste any more of your time, but, uh, I don\\'t suppose you could, uh, tell us where we might find a, um-- find a, uh-- a, um-- a, uh--\\\\nTIM: A what...?\\\\nARTHUR: A g-- a-- a g-- a g-- a-- a g--\\\\nTIM: A grail?!\\\\nARTHUR: Yes, I think so.\\\\nROBIN: Y-- y-- yes.\\\\nARTHUR: Yes.\\\\nGALAHAD: Yup.\\\\nKNIGHTS: That\\'s it...\\\\nTIM: Yes!\\\\nROBIN: Oh.\\\\nARTHUR: Oh.  Thank you.\\\\nROBIN: Ahh.\\\\nGALAHAD: Oh.  Fine.\\\\nARTHUR: Thank you.\\\\nROBIN: Splendid.\\\\nKNIGHTS: Aah... [boom pweeng boom boom] \\\\nARTHUR: Look, um, you\\'re a busy man, uh--\\\\nTIM: Yes, I can help you find the Holy Grail.\\\\nKNIGHTS: Oh, thank you.  Oh...\\\\nTIM: To the north there lies a cave-- the cave of Caerbannog-- wherein, carved in mystic runes upon the very living rock, the last words of Olfin Bedwere of Rheged... [boom] ... make plain the last resting place of the most Holy Grail.\\\\nARTHUR: Where could we find this cave, O Tim?\\\\nTIM: Follow.  But!  Follow only if ye be men of valor, for the entrance to this cave is guarded by a creature so foul, so cruel that no man yet has fought with it and lived!  Bones of full fifty men lie strewn about its lair.  So, brave knights, if you do doubt your courage or your strength, come no further, for death awaits you all with nasty, big, pointy teeth.\\\\nARTHUR: What an eccentric performance\\\\nSCENE 21: [clop clop clop] [whinny whinny] \\\\nGALAHAD: They\\'re nervous, sire.\\\\nARTHUR: Then we\\'d best leave them here and carry on on foot.  Dis-mount!\\\\nTIM: Behold the cave of Caerbannog!\\\\nARTHUR: Right!  Keep me covered.\\\\nGALAHAD: What with?\\\\nARTHUR: W-- just keep me covered.\\\\nTIM: Too late! [dramatic chord] \\\\nARTHUR: What?\\\\nTIM: There he is!\\\\nARTHUR: Where?\\\\nTIM: There!\\\\nARTHUR: What, behind the rabbit?\\\\nTIM: It is the rabbit!\\\\nARTHUR: You silly sod!\\\\nTIM: What?\\\\nARTHUR: You got us all worked up!\\\\nTIM: Well, that\\'s no ordinary rabbit.\\\\nARTHUR: Ohh.\\\\nTIM: That\\'s the most foul, cruel, and bad-tempered rodent you ever set eyes on.\\\\nROBIN: You tit!  I soiled my armor I was so scared!\\\\nTIM: Look, that rabbit\\'s got a vicious streak a mile wide; it\\'s a killer!\\\\nGALAHAD: Get stuffed!\\\\nTIM: He\\'ll do you up a treat mate!\\\\nGALAHAD: Oh, yeah?\\\\nROBIN: You mangy scots git!\\\\nTIM: I\\'m warning you!\\\\nROBIN: What\\'s he do, nibble your bum?\\\\nTIM: He\\'s got huge, sharp-- eh-- he can leap about-- look at the bones!\\\\nARTHUR: Go on, Bors.  Chop his head off!\\\\nBORS: Right!  Silly little bleeder.  One rabbit stew comin\\' right up!\\\\nTIM: Look! [squeak] \\\\nBORS: Aaaugh! [dramatic chord] [clunk] \\\\nARTHUR: Jesus Christ!\\\\nTIM: I warned you!\\\\nROBIN: I done it again!\\\\nTIM: I warned you, but did you listen to me?  Oh, no, you knew it all, didn\\'t you?  Oh, it\\'s just a harmless little bunny, isn\\'t it?  Well, it\\'s always the same.  I always tell them--\\\\nARTHUR: Oh, shut up!\\\\nTIM: Do they listen to me?\\\\nARTHUR: Right!\\\\nTIM: Oh, no...\\\\nKNIGHTS: Charge! [squeak squeak squeak] \\\\nKNIGHTS: Aaaaugh!, Aaaugh!, etc.\\\\nARTHUR: Run away!  Run away!\\\\nKNIGHTS: Run away!  Run away! ...\\\\nTIM: Ha ha ha ha!  Ha haw haw!  Ha!  Ha ha!\\\\nARTHUR: Right.  How many did we lose?\\\\nLAUNCELOT: Gawain.\\\\nGALAHAD: Ector.\\\\nARTHUR: And Bors.  That\\'s five.\\\\nGALAHAD: Three, sir.\\\\nARTHUR: Three.  Three.  And we\\'d better not risk another frontal assault.  That rabbit\\'s dynamite.\\\\nROBIN: Would it help to confuse it if we run away more?\\\\nARTHUR: Oh, shut up and go and change your armor.\\\\nGALAHAD: Let us taunt it!  It may become so cross that it will make a mistake.\\\\nARTHUR: Like what?\\\\nGALAHAD: Well...  ooh.\\\\nLAUNCELOT: Have we got bows?\\\\nARTHUR: No.\\\\nLAUNCELOT: We have the Holy Hand Grenade.\\\\nARTHUR: Yes, of course!  The Holy Hand Grenade of Antioch!  \\'Tis one of the sacred relics Brother Maynard carries with him!  Brother Maynard!  Bring up the Holy Hand Grenade!\\\\nMONKS: [chanting] Pie Iesu domine, dona eis requiem.  Pie Iesu domine, donaeis requiem.  Pie Iesu domine, dona eis requiem.  Pie Iesu domine, dona eisrequiem.\\\\nARTHUR: How does it, um-- how does it work?\\\\nLAUNCELOT: I know not, my liege.\\\\nARTHUR: Consult the Book of Armaments!\\\\nBROTHER MAYNARD: Armaments, Chapter Two, verses Nine to Twenty-one.\\\\nSECOND BROTHER: And Saint Attila raised the hand grenade up on high, saying,\\'O Lord, bless this thy hand grenade that with it thou mayest blow thine enemies to tiny bits, in thy mercy.\\' And the Lord did grin, and the people did feast upon the lambs and sloths and carp and anchovies and orangutans and breakfast cereals and fruit bats and large chu--\\\\nMAYNARD: Skip a bit, Brother.\\\\nSECOND BROTHER: And the Lord spake, saying, \\'First shalt thou take out the Holy Pin.  Then, shalt thou count to three, no more, no less.  Three shalt be the number thou shalt count, and the number of the counting shall be three.  Four shalt thou not count, nor either count thou two, excepting that thou then proceed to three.  Five is right out.  Once the number three, being the third number, be reached, then lobbest thou thy Holy Hand Grenade of Antioch towards thy foe, who, being naughty in my sight, shall snuff it.\\'\\\\nMAYNARD: Amen.\\\\nKNIGHTS: Amen.\\\\nARTHUR: Right!  One...  two...  five!\\\\nGALAHAD: Three, sir!\\\\nARTHUR: Three! [angels sing] [boom] \\\\nSCENE 22:\\\\nARTHUR: There!  Look!\\\\nLAUNCELOT: What does it say?\\\\nGALAHAD: What language is that?\\\\nARTHUR: Brother Maynard!  You are a scholar.\\\\nMAYNARD: It\\'s Aramaic!\\\\nGALAHAD: Of course!  Joseph of Arimathea!\\\\nLAUNCELOT: \\'Course!\\\\nARTHUR: What does it say?\\\\nMAYNARD: It reads, \\'Here may be found the last words of Joseph of Arimathea.  He who is valiant and pure of spirit may find the Holy Grail in the Castle of uuggggggh\\'.\\\\nARTHUR: What?\\\\nMAYNARD: \\'...  the Castle of uuggggggh\\'.\\\\nBEDEVERE: What is that?\\\\nMAYNARD: He must have died while carving it.\\\\nLAUNCELOT: Oh, come on!\\\\nMAYNARD: Well, that\\'s what it says.\\\\nARTHUR: Look, if he was dying, he wouldn\\'t bother to carve \\'aaggggh\\'.  He\\'d just say it!\\\\nMAYNARD: Well, that\\'s what\\'s carved in the rock!\\\\nGALAHAD: Perhaps he was dictating.\\\\nARTHUR: Oh, shut up.  Well, does it say anything else?\\\\nMAYNARD: No.  Just, \\'uuggggggh\\'.\\\\nLAUNCELOT: Aauuggghhh.\\\\nARTHUR: Aaauggh.\\\\nBEDEVERE: Do you suppose he meant the Camaaaaaargue?\\\\nGALAHAD: Where\\'s that?\\\\nBEDEVERE: France, I think.\\\\nLAUNCELOT: Isn\\'t there a Saint Aauuuves in Cornwall?\\\\nARTHUR: No, that\\'s Saint Ives.\\\\nLAUNCELOT: Oh, yes.  Saint Iiiives.\\\\nKNIGHTS: Iiiiives.\\\\nBEDEVERE: Oooohoohohooo!\\\\nLAUNCELOT: No, no.  \\'Aauuuuugh\\', at the back of the throat.  Aauuugh.\\\\nBEDEVERE: N-- no.  No, no, no, no.  \\'Oooooooh\\', in surprise and alarm.\\\\nLAUNCELOT: Oh, you mean sort of a \\'aaaah\\'!\\\\nBEDEVERE: Yes, but I-- aaaaaah!\\\\nARTHUR: Oooh!\\\\nGALAHAD: My God! [dramatic chord] [roar] \\\\nMAYNARD: It\\'s the legendary Black Beast of Aaauugh! [Black Beast of Aaauugh eats BROTHER MAYNARD] \\\\nBEDEVERE: That\\'s it!  That\\'s it!\\\\nARTHUR: Run away!\\\\nKNIGHTS: Run away! [roar] Run away!  Run awaaay!  Run awaaaaay! [roar] Keep running! [boom] [roar] Shh!  Shh!  Shh!  Shh!  Shh!  Shh!  Shh!  Shh! ...\\\\nBEDEVERE: We\\'ve lost him. [roar] \\\\nKNIGHTS: Aagh!\\\\nNARRATOR: As the horrendous Black Beast lunged forward, escape for Arthur and his knights seemed hopeless, when suddenly, the animator suffered a fatal heart attack.\\\\nANIMATOR: Ulk! [thump] \\\\nNARRATOR: The cartoon peril was no more.  The quest for Holy Grail could continue.\\\\nSCENE 23: [gurgle] \\\\nGALAHAD: There it is!\\\\nARTHUR: The Bridge of Death!\\\\nROBIN: Oh, great.\\\\nARTHUR: Look!  There\\'s the old man from scene twenty-four!\\\\nBEDEVERE: What is he doing here?\\\\nARTHUR: He is the keeper of the Bridge of Death.  He asks each traveller five questions--\\\\nGALAHAD: Three questions.\\\\nARTHUR: Three questions.  He who answers the five questions--\\\\nGALAHAD: Three questions.\\\\nARTHUR: Three questions may cross in safety.\\\\nROBIN: What if you get a question wrong?\\\\nARTHUR: Then you are cast into the Gorge of Eternal Peril.\\\\nROBIN: Oh, I won\\'t go.\\\\nGALAHAD: Who\\'s going to answer the questions?\\\\nARTHUR: Sir Robin!\\\\nROBIN: Yes?\\\\nARTHUR: Brave Sir Robin, you go.\\\\nROBIN: Hey!  I\\'ve got a great idea.  Why doesn\\'t Launcelot go?\\\\nLAUNCELOT: Yes.  Let me go, my liege.  I will take him single-handed.  I shall make a feint to the north-east that s--\\\\nARTHUR: No, no.  No.  Hang on!  Hang on!  Hang on!  Just answer the five questions--\\\\nGALAHAD: Three questions.\\\\nARTHUR: Three questions as best you can.  And we shall watch...  and pray.\\\\nLAUNCELOT: I understand, my liege.\\\\nARTHUR: Good luck, brave Sir Launcelot.  God be with you.\\\\nBRIDGEKEEPER: Stop!  Who would cross the Bridge of Death must answer me these questions three, ere the other side he see.\\\\nLAUNCELOT: Ask me the questions, bridgekeeper.  I am not afraid.\\\\nBRIDGEKEEPER: What is your name?\\\\nLAUNCELOT: My name is Sir Launcelot of Camelot.\\\\nBRIDGEKEEPER: What is your quest?\\\\nLAUNCELOT: To seek the Holy Grail.\\\\nBRIDGEKEEPER: What is your favorite color?\\\\nLAUNCELOT: Blue.\\\\nBRIDGEKEEPER: Right.  Off you go.\\\\nLAUNCELOT: Oh, thank you.  Thank you very much.\\\\nROBIN: That\\'s easy!\\\\nBRIDGEKEEPER: Stop!  Who approacheth the Bridge of Death must answer me these questions three, ere the other side he see.\\\\nROBIN: Ask me the questions, bridgekeeper.  I\\'m not afraid.\\\\nBRIDGEKEEPER: What is your name?\\\\nROBIN: Sir Robin of Camelot.\\\\nBRIDGEKEEPER: What is your quest?\\\\nROBIN: To seek the Holy Grail.\\\\nBRIDGEKEEPER: What is the capital of Assyria?\\\\nROBIN: I don\\'t know that!  Auuuuuuuugh!\\\\nBRIDGEKEEPER: Stop!  What is your name?\\\\nGALAHAD: Sir Galahad of Camelot.\\\\nBRIDGEKEEPER: What is your quest?\\\\nGALAHAD: I seek the Grail.\\\\nBRIDGEKEEPER: What is your favorite color?\\\\nGALAHAD: Blue.  No yel-- auuuuuuuugh!\\\\nBRIDGEKEEPER: Hee hee heh.  Stop!  What is your name?\\\\nARTHUR: It is Arthur, King of the Britons.\\\\nBRIDGEKEEPER: What is your quest?\\\\nARTHUR: To seek the Holy Grail.\\\\nBRIDGEKEEPER: What is the air-speed velocity of an unladen swallow?\\\\nARTHUR: What do you mean?  An African or European swallow?\\\\nBRIDGEKEEPER: Huh?  I-- I don\\'t know that!  Auuuuuuuugh!\\\\nBEDEVERE: How do know so much about swallows?\\\\nARTHUR: Well, you have to know these things when you\\'re a king, you know. [suspenseful music] [music suddenly stops] [intermission] [suspenseful music resumes]\\\\nSCENE 24:\\\\nARTHUR: Launcelot!  Launcelot!  Launcelot!\\\\nBEDEVERE: Launcelot!  Launcelot!\\\\nARTHUR: Launcelot! [police radio] Launcelot!\\\\nBEDEVERE: Launcelot!  Launcelot! [angels sing] [singing stops] [ethereal music] \\\\nARTHUR: The Castle Aaagh.  Our quest is at an end!  God be praised!  Almighty God, we thank Thee that Thou hast vouchsafed to us the most holy-- [twong] [baaaa] Jesus Christ! [thud] \\\\nFRENCH GUARD: Allo, dappy English k-niggets and Monsieur Arthur King, who has the brain of a duck, you know.  So, we French fellows outwit you a second time!\\\\nARTHUR: How dare you profane this place with your presence!  I command you, in the name of the Knights of Camelot, to open the doors of this sacred castle, to which God Himself has guided us!\\\\nFRENCH GUARD: How you English say, \\'I one more time, mac, unclog my nose in your direction\\', sons of a window-dresser!  So, you think you could out-clever us French folk with your silly knees-bent running about advancing behaviour?!  I wave my private parts at your aunties, you cheesy lot of second hand electric donkey-bottom biters.\\\\nARTHUR: In the name of the Lord, we demand entrance to this sacred castle!\\\\nFRENCH GUARD: No chance, English bed-wetting types.  I burst my pimples at you and call your door-opening request a silly thing, you tiny-brained wipers of other people\\'s bottoms!\\\\nARTHUR: If you do not open this door, we shall take this castle by force! [splat] In the name of God and the glory of our-- [splat] \\\\nFRENCH GUARDS: [laughing] \\\\nARTHUR: Agh.  Right!  That settles it!\\\\nFRENCH GUARD: Yes, depart a lot at this time, and cut the approaching any more or we fire arrows at the tops of your heads and make castanets out of your testicles already!  Ha ha haaa ha!\\\\nARTHUR: Walk away.  Just ignore them.\\\\nFRENCH GUARD: And now, remain gone, illegitimate-faced bugger-folk!  And, if you think you got a nasty taunting this time, you ain\\'t heard nothing yet, dappy English k-nnniggets!  Thpppt!\\\\nFRENCH GUARDS: [taunting] \\\\nARTHUR: We shall attack at once!\\\\nBEDEVERE: Yes, my liege!\\\\nARTHUR: Stand by for attack! [exciting music] [music stops] [silence] French persons!\\\\nFRENCH GUARDS: [taunting] ... Dappy! ...\\\\nARTHUR: Today the blood of many a valiant knight shall be avenged.  In the name of God, ...\\\\nFRENCH GUARDS: Hoo hoo!  Ohh, ha ha ha ha ha! ...\\\\nARTHUR: ... we shall not stop our fight \\'til each one of you lies dead, and the Holy Grail returns to those whom God has chosen!\\\\nFRENCH GUARDS: ... Ha ha ha! ...\\\\nARTHUR: Charge!\\\\nARMY OF KNIGHTS: Hooray! [police siren] \\\\nHISTORIAN\\'S WIFE: Yes.  They\\'re the ones.  I\\'m sure.\\\\nINSPECTOR: Come on.  Anybody armed must go too.\\\\nOFFICER #1: All right.  Come on.  Back.\\\\nHISTORIAN\\'S WIFE: Get that one.\\\\nOFFICER #1: Back.  Right away.  Just...  pull it off.  Come on.  Come along.\\\\nINSPECTOR: Put this man in the van.\\\\nOFFICER #1: Clear off.  Come on.\\\\nBEDEVERE: With whom?\\\\nINSPECTOR: Which one?\\\\nOFFICER #1: Oh-- this one.\\\\nINSPECTOR: Come on.  Put him in the van.\\\\nOFFICER #2: Get a blanket.\\\\nOFFICER #1: We have no hospital.\\\\nRANDOM: Ahh. [squeak] \\\\nRANDOM: Ooh.\\\\nOFFICER #1: Come on.  Back.  Riiight back.  Come on!\\\\nOFFICER #2: Run along!  Run along!\\\\nOFFICER #1: Pull that off.  My, that\\'s an offensive weapon, that is.\\\\nOFFICER #2: Come on.  Back with \\'em.  Back.  Right.  Come along.\\\\nINSPECTOR: Everything? [squeak] \\\\nOFFICER #1: All right, sonny.  That\\'s enough.  Just pack that in. [crash] \\\\nCAMERAMAN: Christ!\\\\n\"'"
     },
     "execution_count": 11,
     "metadata": {},
     "output_type": "execute_result"
    }
   ],
   "source": [
    "holy_grail = str = open('holy_grail.txt', 'r').read()\n",
    "holy_grail"
   ]
  },
  {
   "cell_type": "code",
   "execution_count": 12,
   "metadata": {},
   "outputs": [
    {
     "data": {
      "image/png": "[encoded data removed]",
      "image/svg+xml": "<?xml version=\"1.0\" encoding=\"utf-8\" standalone=\"no\"?>\r\n<!DOCTYPE svg PUBLIC \"-//W3C//DTD SVG 1.1//EN\"\r\n  \"http://www.w3.org/Graphics/SVG/1.1/DTD/svg11.dtd\">\r\n<!-- Created with matplotlib (https://matplotlib.org/) -->\r\n<svg height=\"261.19625pt\" version=\"1.1\" viewBox=\"0 0 372.103125 261.19625\" width=\"372.103125pt\" xmlns=\"http://www.w3.org/2000/svg\" xmlns:xlink=\"http://www.w3.org/1999/xlink\">\r\n <defs>\r\n  <style type=\"text/css\">\r\n*{stroke-linecap:butt;stroke-linejoin:round;white-space:pre;}\r\n  </style>\r\n </defs>\r\n <g id=\"figure_1\">\r\n  <g id=\"patch_1\">\r\n   <path d=\"M 0 261.19625 \r\nL 372.103125 261.19625 \r\nL 372.103125 0 \r\nL 0 0 \r\nz\r\n\" style=\"fill:none;\"/>\r\n  </g>\r\n  <g id=\"axes_1\">\r\n   <g id=\"patch_2\">\r\n    <path d=\"M 30.103125 224.64 \r\nL 364.903125 224.64 \r\nL 364.903125 7.2 \r\nL 30.103125 7.2 \r\nz\r\n\" style=\"fill:#ffffff;\"/>\r\n   </g>\r\n   <g id=\"patch_3\">\r\n    <path clip-path=\"url(#p160d83a008)\" d=\"M 45.321307 224.64 \r\nL 75.75767 224.64 \r\nL 75.75767 224.64 \r\nL 45.321307 224.64 \r\nz\r\n\" style=\"fill:#1f77b4;\"/>\r\n   </g>\r\n   <g id=\"patch_4\">\r\n    <path clip-path=\"url(#p160d83a008)\" d=\"M 75.75767 224.64 \r\nL 106.194034 224.64 \r\nL 106.194034 224.64 \r\nL 75.75767 224.64 \r\nz\r\n\" style=\"fill:#1f77b4;\"/>\r\n   </g>\r\n   <g id=\"patch_5\">\r\n    <path clip-path=\"url(#p160d83a008)\" d=\"M 106.194034 224.64 \r\nL 136.630398 224.64 \r\nL 136.630398 224.64 \r\nL 106.194034 224.64 \r\nz\r\n\" style=\"fill:#1f77b4;\"/>\r\n   </g>\r\n   <g id=\"patch_6\">\r\n    <path clip-path=\"url(#p160d83a008)\" d=\"M 136.630398 224.64 \r\nL 167.066761 224.64 \r\nL 167.066761 224.64 \r\nL 136.630398 224.64 \r\nz\r\n\" style=\"fill:#1f77b4;\"/>\r\n   </g>\r\n   <g id=\"patch_7\">\r\n    <path clip-path=\"url(#p160d83a008)\" d=\"M 167.066761 224.64 \r\nL 197.503125 224.64 \r\nL 197.503125 224.64 \r\nL 167.066761 224.64 \r\nz\r\n\" style=\"fill:#1f77b4;\"/>\r\n   </g>\r\n   <g id=\"patch_8\">\r\n    <path clip-path=\"url(#p160d83a008)\" d=\"M 197.503125 224.64 \r\nL 227.939489 224.64 \r\nL 227.939489 17.554286 \r\nL 197.503125 17.554286 \r\nz\r\n\" style=\"fill:#1f77b4;\"/>\r\n   </g>\r\n   <g id=\"patch_9\">\r\n    <path clip-path=\"url(#p160d83a008)\" d=\"M 227.939489 224.64 \r\nL 258.375852 224.64 \r\nL 258.375852 224.64 \r\nL 227.939489 224.64 \r\nz\r\n\" style=\"fill:#1f77b4;\"/>\r\n   </g>\r\n   <g id=\"patch_10\">\r\n    <path clip-path=\"url(#p160d83a008)\" d=\"M 258.375852 224.64 \r\nL 288.812216 224.64 \r\nL 288.812216 224.64 \r\nL 258.375852 224.64 \r\nz\r\n\" style=\"fill:#1f77b4;\"/>\r\n   </g>\r\n   <g id=\"patch_11\">\r\n    <path clip-path=\"url(#p160d83a008)\" d=\"M 288.812216 224.64 \r\nL 319.24858 224.64 \r\nL 319.24858 224.64 \r\nL 288.812216 224.64 \r\nz\r\n\" style=\"fill:#1f77b4;\"/>\r\n   </g>\r\n   <g id=\"patch_12\">\r\n    <path clip-path=\"url(#p160d83a008)\" d=\"M 319.24858 224.64 \r\nL 349.684943 224.64 \r\nL 349.684943 224.64 \r\nL 319.24858 224.64 \r\nz\r\n\" style=\"fill:#1f77b4;\"/>\r\n   </g>\r\n   <g id=\"matplotlib.axis_1\">\r\n    <g id=\"xtick_1\">\r\n     <g id=\"line2d_1\">\r\n      <defs>\r\n       <path d=\"M 0 0 \r\nL 0 3.5 \r\n\" id=\"mf16b92ef35\" style=\"stroke:#000000;stroke-width:0.8;\"/>\r\n      </defs>\r\n      <g>\r\n       <use style=\"stroke:#000000;stroke-width:0.8;\" x=\"75.75767\" xlink:href=\"#mf16b92ef35\" y=\"224.64\"/>\r\n      </g>\r\n     </g>\r\n     <g id=\"text_1\">\r\n      <!-- 4.6 -->\r\n      <defs>\r\n       <path d=\"M 37.796875 64.3125 \r\nL 12.890625 25.390625 \r\nL 37.796875 25.390625 \r\nz\r\nM 35.203125 72.90625 \r\nL 47.609375 72.90625 \r\nL 47.609375 25.390625 \r\nL 58.015625 25.390625 \r\nL 58.015625 17.1875 \r\nL 47.609375 17.1875 \r\nL 47.609375 0 \r\nL 37.796875 0 \r\nL 37.796875 17.1875 \r\nL 4.890625 17.1875 \r\nL 4.890625 26.703125 \r\nz\r\n\" id=\"DejaVuSans-52\"/>\r\n       <path d=\"M 10.6875 12.40625 \r\nL 21 12.40625 \r\nL 21 0 \r\nL 10.6875 0 \r\nz\r\n\" id=\"DejaVuSans-46\"/>\r\n       <path d=\"M 33.015625 40.375 \r\nQ 26.375 40.375 22.484375 35.828125 \r\nQ 18.609375 31.296875 18.609375 23.390625 \r\nQ 18.609375 15.53125 22.484375 10.953125 \r\nQ 26.375 6.390625 33.015625 6.390625 \r\nQ 39.65625 6.390625 43.53125 10.953125 \r\nQ 47.40625 15.53125 47.40625 23.390625 \r\nQ 47.40625 31.296875 43.53125 35.828125 \r\nQ 39.65625 40.375 33.015625 40.375 \r\nz\r\nM 52.59375 71.296875 \r\nL 52.59375 62.3125 \r\nQ 48.875 64.0625 45.09375 64.984375 \r\nQ 41.3125 65.921875 37.59375 65.921875 \r\nQ 27.828125 65.921875 22.671875 59.328125 \r\nQ 17.53125 52.734375 16.796875 39.40625 \r\nQ 19.671875 43.65625 24.015625 45.921875 \r\nQ 28.375 48.1875 33.59375 48.1875 \r\nQ 44.578125 48.1875 50.953125 41.515625 \r\nQ 57.328125 34.859375 57.328125 23.390625 \r\nQ 57.328125 12.15625 50.6875 5.359375 \r\nQ 44.046875 -1.421875 33.015625 -1.421875 \r\nQ 20.359375 -1.421875 13.671875 8.265625 \r\nQ 6.984375 17.96875 6.984375 36.375 \r\nQ 6.984375 53.65625 15.1875 63.9375 \r\nQ 23.390625 74.21875 37.203125 74.21875 \r\nQ 40.921875 74.21875 44.703125 73.484375 \r\nQ 48.484375 72.75 52.59375 71.296875 \r\nz\r\n\" id=\"DejaVuSans-54\"/>\r\n      </defs>\r\n      <g transform=\"translate(67.806108 239.238437)scale(0.1 -0.1)\">\r\n       <use xlink:href=\"#DejaVuSans-52\"/>\r\n       <use x=\"63.623047\" xlink:href=\"#DejaVuSans-46\"/>\r\n       <use x=\"95.410156\" xlink:href=\"#DejaVuSans-54\"/>\r\n      </g>\r\n     </g>\r\n    </g>\r\n    <g id=\"xtick_2\">\r\n     <g id=\"line2d_2\">\r\n      <g>\r\n       <use style=\"stroke:#000000;stroke-width:0.8;\" x=\"136.630398\" xlink:href=\"#mf16b92ef35\" y=\"224.64\"/>\r\n      </g>\r\n     </g>\r\n     <g id=\"text_2\">\r\n      <!-- 4.8 -->\r\n      <defs>\r\n       <path d=\"M 31.78125 34.625 \r\nQ 24.75 34.625 20.71875 30.859375 \r\nQ 16.703125 27.09375 16.703125 20.515625 \r\nQ 16.703125 13.921875 20.71875 10.15625 \r\nQ 24.75 6.390625 31.78125 6.390625 \r\nQ 38.8125 6.390625 42.859375 10.171875 \r\nQ 46.921875 13.96875 46.921875 20.515625 \r\nQ 46.921875 27.09375 42.890625 30.859375 \r\nQ 38.875 34.625 31.78125 34.625 \r\nz\r\nM 21.921875 38.8125 \r\nQ 15.578125 40.375 12.03125 44.71875 \r\nQ 8.5 49.078125 8.5 55.328125 \r\nQ 8.5 64.0625 14.71875 69.140625 \r\nQ 20.953125 74.21875 31.78125 74.21875 \r\nQ 42.671875 74.21875 48.875 69.140625 \r\nQ 55.078125 64.0625 55.078125 55.328125 \r\nQ 55.078125 49.078125 51.53125 44.71875 \r\nQ 48 40.375 41.703125 38.8125 \r\nQ 48.828125 37.15625 52.796875 32.3125 \r\nQ 56.78125 27.484375 56.78125 20.515625 \r\nQ 56.78125 9.90625 50.3125 4.234375 \r\nQ 43.84375 -1.421875 31.78125 -1.421875 \r\nQ 19.734375 -1.421875 13.25 4.234375 \r\nQ 6.78125 9.90625 6.78125 20.515625 \r\nQ 6.78125 27.484375 10.78125 32.3125 \r\nQ 14.796875 37.15625 21.921875 38.8125 \r\nz\r\nM 18.3125 54.390625 \r\nQ 18.3125 48.734375 21.84375 45.5625 \r\nQ 25.390625 42.390625 31.78125 42.390625 \r\nQ 38.140625 42.390625 41.71875 45.5625 \r\nQ 45.3125 48.734375 45.3125 54.390625 \r\nQ 45.3125 60.0625 41.71875 63.234375 \r\nQ 38.140625 66.40625 31.78125 66.40625 \r\nQ 25.390625 66.40625 21.84375 63.234375 \r\nQ 18.3125 60.0625 18.3125 54.390625 \r\nz\r\n\" id=\"DejaVuSans-56\"/>\r\n      </defs>\r\n      <g transform=\"translate(128.678835 239.238437)scale(0.1 -0.1)\">\r\n       <use xlink:href=\"#DejaVuSans-52\"/>\r\n       <use x=\"63.623047\" xlink:href=\"#DejaVuSans-46\"/>\r\n       <use x=\"95.410156\" xlink:href=\"#DejaVuSans-56\"/>\r\n      </g>\r\n     </g>\r\n    </g>\r\n    <g id=\"xtick_3\">\r\n     <g id=\"line2d_3\">\r\n      <g>\r\n       <use style=\"stroke:#000000;stroke-width:0.8;\" x=\"197.503125\" xlink:href=\"#mf16b92ef35\" y=\"224.64\"/>\r\n      </g>\r\n     </g>\r\n     <g id=\"text_3\">\r\n      <!-- 5.0 -->\r\n      <defs>\r\n       <path d=\"M 10.796875 72.90625 \r\nL 49.515625 72.90625 \r\nL 49.515625 64.59375 \r\nL 19.828125 64.59375 \r\nL 19.828125 46.734375 \r\nQ 21.96875 47.46875 24.109375 47.828125 \r\nQ 26.265625 48.1875 28.421875 48.1875 \r\nQ 40.625 48.1875 47.75 41.5 \r\nQ 54.890625 34.8125 54.890625 23.390625 \r\nQ 54.890625 11.625 47.5625 5.09375 \r\nQ 40.234375 -1.421875 26.90625 -1.421875 \r\nQ 22.3125 -1.421875 17.546875 -0.640625 \r\nQ 12.796875 0.140625 7.71875 1.703125 \r\nL 7.71875 11.625 \r\nQ 12.109375 9.234375 16.796875 8.0625 \r\nQ 21.484375 6.890625 26.703125 6.890625 \r\nQ 35.15625 6.890625 40.078125 11.328125 \r\nQ 45.015625 15.765625 45.015625 23.390625 \r\nQ 45.015625 31 40.078125 35.4375 \r\nQ 35.15625 39.890625 26.703125 39.890625 \r\nQ 22.75 39.890625 18.8125 39.015625 \r\nQ 14.890625 38.140625 10.796875 36.28125 \r\nz\r\n\" id=\"DejaVuSans-53\"/>\r\n       <path d=\"M 31.78125 66.40625 \r\nQ 24.171875 66.40625 20.328125 58.90625 \r\nQ 16.5 51.421875 16.5 36.375 \r\nQ 16.5 21.390625 20.328125 13.890625 \r\nQ 24.171875 6.390625 31.78125 6.390625 \r\nQ 39.453125 6.390625 43.28125 13.890625 \r\nQ 47.125 21.390625 47.125 36.375 \r\nQ 47.125 51.421875 43.28125 58.90625 \r\nQ 39.453125 66.40625 31.78125 66.40625 \r\nz\r\nM 31.78125 74.21875 \r\nQ 44.046875 74.21875 50.515625 64.515625 \r\nQ 56.984375 54.828125 56.984375 36.375 \r\nQ 56.984375 17.96875 50.515625 8.265625 \r\nQ 44.046875 -1.421875 31.78125 -1.421875 \r\nQ 19.53125 -1.421875 13.0625 8.265625 \r\nQ 6.59375 17.96875 6.59375 36.375 \r\nQ 6.59375 54.828125 13.0625 64.515625 \r\nQ 19.53125 74.21875 31.78125 74.21875 \r\nz\r\n\" id=\"DejaVuSans-48\"/>\r\n      </defs>\r\n      <g transform=\"translate(189.551562 239.238437)scale(0.1 -0.1)\">\r\n       <use xlink:href=\"#DejaVuSans-53\"/>\r\n       <use x=\"63.623047\" xlink:href=\"#DejaVuSans-46\"/>\r\n       <use x=\"95.410156\" xlink:href=\"#DejaVuSans-48\"/>\r\n      </g>\r\n     </g>\r\n    </g>\r\n    <g id=\"xtick_4\">\r\n     <g id=\"line2d_4\">\r\n      <g>\r\n       <use style=\"stroke:#000000;stroke-width:0.8;\" x=\"258.375852\" xlink:href=\"#mf16b92ef35\" y=\"224.64\"/>\r\n      </g>\r\n     </g>\r\n     <g id=\"text_4\">\r\n      <!-- 5.2 -->\r\n      <defs>\r\n       <path d=\"M 19.1875 8.296875 \r\nL 53.609375 8.296875 \r\nL 53.609375 0 \r\nL 7.328125 0 \r\nL 7.328125 8.296875 \r\nQ 12.9375 14.109375 22.625 23.890625 \r\nQ 32.328125 33.6875 34.8125 36.53125 \r\nQ 39.546875 41.84375 41.421875 45.53125 \r\nQ 43.3125 49.21875 43.3125 52.78125 \r\nQ 43.3125 58.59375 39.234375 62.25 \r\nQ 35.15625 65.921875 28.609375 65.921875 \r\nQ 23.96875 65.921875 18.8125 64.3125 \r\nQ 13.671875 62.703125 7.8125 59.421875 \r\nL 7.8125 69.390625 \r\nQ 13.765625 71.78125 18.9375 73 \r\nQ 24.125 74.21875 28.421875 74.21875 \r\nQ 39.75 74.21875 46.484375 68.546875 \r\nQ 53.21875 62.890625 53.21875 53.421875 \r\nQ 53.21875 48.921875 51.53125 44.890625 \r\nQ 49.859375 40.875 45.40625 35.40625 \r\nQ 44.1875 33.984375 37.640625 27.21875 \r\nQ 31.109375 20.453125 19.1875 8.296875 \r\nz\r\n\" id=\"DejaVuSans-50\"/>\r\n      </defs>\r\n      <g transform=\"translate(250.42429 239.238437)scale(0.1 -0.1)\">\r\n       <use xlink:href=\"#DejaVuSans-53\"/>\r\n       <use x=\"63.623047\" xlink:href=\"#DejaVuSans-46\"/>\r\n       <use x=\"95.410156\" xlink:href=\"#DejaVuSans-50\"/>\r\n      </g>\r\n     </g>\r\n    </g>\r\n    <g id=\"xtick_5\">\r\n     <g id=\"line2d_5\">\r\n      <g>\r\n       <use style=\"stroke:#000000;stroke-width:0.8;\" x=\"319.24858\" xlink:href=\"#mf16b92ef35\" y=\"224.64\"/>\r\n      </g>\r\n     </g>\r\n     <g id=\"text_5\">\r\n      <!-- 5.4 -->\r\n      <g transform=\"translate(311.297017 239.238437)scale(0.1 -0.1)\">\r\n       <use xlink:href=\"#DejaVuSans-53\"/>\r\n       <use x=\"63.623047\" xlink:href=\"#DejaVuSans-46\"/>\r\n       <use x=\"95.410156\" xlink:href=\"#DejaVuSans-52\"/>\r\n      </g>\r\n     </g>\r\n    </g>\r\n    <g id=\"text_6\">\r\n     <!-- +1.125e4 -->\r\n     <defs>\r\n      <path d=\"M 46 62.703125 \r\nL 46 35.5 \r\nL 73.1875 35.5 \r\nL 73.1875 27.203125 \r\nL 46 27.203125 \r\nL 46 0 \r\nL 37.796875 0 \r\nL 37.796875 27.203125 \r\nL 10.59375 27.203125 \r\nL 10.59375 35.5 \r\nL 37.796875 35.5 \r\nL 37.796875 62.703125 \r\nz\r\n\" id=\"DejaVuSans-43\"/>\r\n      <path d=\"M 12.40625 8.296875 \r\nL 28.515625 8.296875 \r\nL 28.515625 63.921875 \r\nL 10.984375 60.40625 \r\nL 10.984375 69.390625 \r\nL 28.421875 72.90625 \r\nL 38.28125 72.90625 \r\nL 38.28125 8.296875 \r\nL 54.390625 8.296875 \r\nL 54.390625 0 \r\nL 12.40625 0 \r\nz\r\n\" id=\"DejaVuSans-49\"/>\r\n      <path d=\"M 56.203125 29.59375 \r\nL 56.203125 25.203125 \r\nL 14.890625 25.203125 \r\nQ 15.484375 15.921875 20.484375 11.0625 \r\nQ 25.484375 6.203125 34.421875 6.203125 \r\nQ 39.59375 6.203125 44.453125 7.46875 \r\nQ 49.3125 8.734375 54.109375 11.28125 \r\nL 54.109375 2.78125 \r\nQ 49.265625 0.734375 44.1875 -0.34375 \r\nQ 39.109375 -1.421875 33.890625 -1.421875 \r\nQ 20.796875 -1.421875 13.15625 6.1875 \r\nQ 5.515625 13.8125 5.515625 26.8125 \r\nQ 5.515625 40.234375 12.765625 48.109375 \r\nQ 20.015625 56 32.328125 56 \r\nQ 43.359375 56 49.78125 48.890625 \r\nQ 56.203125 41.796875 56.203125 29.59375 \r\nz\r\nM 47.21875 32.234375 \r\nQ 47.125 39.59375 43.09375 43.984375 \r\nQ 39.0625 48.390625 32.421875 48.390625 \r\nQ 24.90625 48.390625 20.390625 44.140625 \r\nQ 15.875 39.890625 15.1875 32.171875 \r\nz\r\n\" id=\"DejaVuSans-101\"/>\r\n     </defs>\r\n     <g transform=\"translate(315.379688 251.916562)scale(0.1 -0.1)\">\r\n      <use xlink:href=\"#DejaVuSans-43\"/>\r\n      <use x=\"83.789062\" xlink:href=\"#DejaVuSans-49\"/>\r\n      <use x=\"147.412109\" xlink:href=\"#DejaVuSans-46\"/>\r\n      <use x=\"179.199219\" xlink:href=\"#DejaVuSans-49\"/>\r\n      <use x=\"242.822266\" xlink:href=\"#DejaVuSans-50\"/>\r\n      <use x=\"306.445312\" xlink:href=\"#DejaVuSans-53\"/>\r\n      <use x=\"370.068359\" xlink:href=\"#DejaVuSans-101\"/>\r\n      <use x=\"431.591797\" xlink:href=\"#DejaVuSans-52\"/>\r\n     </g>\r\n    </g>\r\n   </g>\r\n   <g id=\"matplotlib.axis_2\">\r\n    <g id=\"ytick_1\">\r\n     <g id=\"line2d_6\">\r\n      <defs>\r\n       <path d=\"M 0 0 \r\nL -3.5 0 \r\n\" id=\"m3132f9a40a\" style=\"stroke:#000000;stroke-width:0.8;\"/>\r\n      </defs>\r\n      <g>\r\n       <use style=\"stroke:#000000;stroke-width:0.8;\" x=\"30.103125\" xlink:href=\"#m3132f9a40a\" y=\"224.64\"/>\r\n      </g>\r\n     </g>\r\n     <g id=\"text_7\">\r\n      <!-- 0.0 -->\r\n      <g transform=\"translate(7.2 228.439219)scale(0.1 -0.1)\">\r\n       <use xlink:href=\"#DejaVuSans-48\"/>\r\n       <use x=\"63.623047\" xlink:href=\"#DejaVuSans-46\"/>\r\n       <use x=\"95.410156\" xlink:href=\"#DejaVuSans-48\"/>\r\n      </g>\r\n     </g>\r\n    </g>\r\n    <g id=\"ytick_2\">\r\n     <g id=\"line2d_7\">\r\n      <g>\r\n       <use style=\"stroke:#000000;stroke-width:0.8;\" x=\"30.103125\" xlink:href=\"#m3132f9a40a\" y=\"183.222857\"/>\r\n      </g>\r\n     </g>\r\n     <g id=\"text_8\">\r\n      <!-- 0.2 -->\r\n      <g transform=\"translate(7.2 187.022076)scale(0.1 -0.1)\">\r\n       <use xlink:href=\"#DejaVuSans-48\"/>\r\n       <use x=\"63.623047\" xlink:href=\"#DejaVuSans-46\"/>\r\n       <use x=\"95.410156\" xlink:href=\"#DejaVuSans-50\"/>\r\n      </g>\r\n     </g>\r\n    </g>\r\n    <g id=\"ytick_3\">\r\n     <g id=\"line2d_8\">\r\n      <g>\r\n       <use style=\"stroke:#000000;stroke-width:0.8;\" x=\"30.103125\" xlink:href=\"#m3132f9a40a\" y=\"141.805714\"/>\r\n      </g>\r\n     </g>\r\n     <g id=\"text_9\">\r\n      <!-- 0.4 -->\r\n      <g transform=\"translate(7.2 145.604933)scale(0.1 -0.1)\">\r\n       <use xlink:href=\"#DejaVuSans-48\"/>\r\n       <use x=\"63.623047\" xlink:href=\"#DejaVuSans-46\"/>\r\n       <use x=\"95.410156\" xlink:href=\"#DejaVuSans-52\"/>\r\n      </g>\r\n     </g>\r\n    </g>\r\n    <g id=\"ytick_4\">\r\n     <g id=\"line2d_9\">\r\n      <g>\r\n       <use style=\"stroke:#000000;stroke-width:0.8;\" x=\"30.103125\" xlink:href=\"#m3132f9a40a\" y=\"100.388571\"/>\r\n      </g>\r\n     </g>\r\n     <g id=\"text_10\">\r\n      <!-- 0.6 -->\r\n      <g transform=\"translate(7.2 104.18779)scale(0.1 -0.1)\">\r\n       <use xlink:href=\"#DejaVuSans-48\"/>\r\n       <use x=\"63.623047\" xlink:href=\"#DejaVuSans-46\"/>\r\n       <use x=\"95.410156\" xlink:href=\"#DejaVuSans-54\"/>\r\n      </g>\r\n     </g>\r\n    </g>\r\n    <g id=\"ytick_5\">\r\n     <g id=\"line2d_10\">\r\n      <g>\r\n       <use style=\"stroke:#000000;stroke-width:0.8;\" x=\"30.103125\" xlink:href=\"#m3132f9a40a\" y=\"58.971429\"/>\r\n      </g>\r\n     </g>\r\n     <g id=\"text_11\">\r\n      <!-- 0.8 -->\r\n      <g transform=\"translate(7.2 62.770647)scale(0.1 -0.1)\">\r\n       <use xlink:href=\"#DejaVuSans-48\"/>\r\n       <use x=\"63.623047\" xlink:href=\"#DejaVuSans-46\"/>\r\n       <use x=\"95.410156\" xlink:href=\"#DejaVuSans-56\"/>\r\n      </g>\r\n     </g>\r\n    </g>\r\n    <g id=\"ytick_6\">\r\n     <g id=\"line2d_11\">\r\n      <g>\r\n       <use style=\"stroke:#000000;stroke-width:0.8;\" x=\"30.103125\" xlink:href=\"#m3132f9a40a\" y=\"17.554286\"/>\r\n      </g>\r\n     </g>\r\n     <g id=\"text_12\">\r\n      <!-- 1.0 -->\r\n      <g transform=\"translate(7.2 21.353504)scale(0.1 -0.1)\">\r\n       <use xlink:href=\"#DejaVuSans-49\"/>\r\n       <use x=\"63.623047\" xlink:href=\"#DejaVuSans-46\"/>\r\n       <use x=\"95.410156\" xlink:href=\"#DejaVuSans-48\"/>\r\n      </g>\r\n     </g>\r\n    </g>\r\n   </g>\r\n   <g id=\"patch_13\">\r\n    <path d=\"M 30.103125 224.64 \r\nL 30.103125 7.2 \r\n\" style=\"fill:none;stroke:#000000;stroke-linecap:square;stroke-linejoin:miter;stroke-width:0.8;\"/>\r\n   </g>\r\n   <g id=\"patch_14\">\r\n    <path d=\"M 364.903125 224.64 \r\nL 364.903125 7.2 \r\n\" style=\"fill:none;stroke:#000000;stroke-linecap:square;stroke-linejoin:miter;stroke-width:0.8;\"/>\r\n   </g>\r\n   <g id=\"patch_15\">\r\n    <path d=\"M 30.103125 224.64 \r\nL 364.903125 224.64 \r\n\" style=\"fill:none;stroke:#000000;stroke-linecap:square;stroke-linejoin:miter;stroke-width:0.8;\"/>\r\n   </g>\r\n   <g id=\"patch_16\">\r\n    <path d=\"M 30.103125 7.2 \r\nL 364.903125 7.2 \r\n\" style=\"fill:none;stroke:#000000;stroke-linecap:square;stroke-linejoin:miter;stroke-width:0.8;\"/>\r\n   </g>\r\n  </g>\r\n </g>\r\n <defs>\r\n  <clipPath id=\"p160d83a008\">\r\n   <rect height=\"217.44\" width=\"334.8\" x=\"30.103125\" y=\"7.2\"/>\r\n  </clipPath>\r\n </defs>\r\n</svg>\r\n",
      "text/plain": "<Figure size 432x288 with 1 Axes>"
     },
     "metadata": {
      "needs_background": "light"
     },
     "output_type": "display_data"
    }
   ],
   "source": [
    "# Split the script into lines: lines\n",
    "lines = holy_grail.split('\\n')\n",
    "\n",
    "# Replace all script lines for speaker\n",
    "pattern = \"[A-Z]{2,}(\\s)?(#\\d)?([A-Z]{2,})?:\"\n",
    "lines = [re.sub(pattern, '', l) for l in lines]\n",
    "\n",
    "# Tokenize each line: tokenized_lines\n",
    "tokenized_lines = [regexp_tokenize(s,\"\\w+\") for s in lines]\n",
    "\n",
    "# Make a frequency list of lengths: line_num_words\n",
    "line_num_words = [len(t_line) for t_line in tokenized_lines]\n",
    "\n",
    "# Plot a histogram of the line lengths\n",
    "plt.hist(line_num_words)\n",
    "\n",
    "# Show the plot\n",
    "plt.show()\n"
   ]
  },
  {
   "cell_type": "markdown",
   "execution_count": null,
   "metadata": {},
   "outputs": [],
   "source": [
    "# Simple Topic Identification"
   ]
  },
  {
   "cell_type": "markdown",
   "execution_count": null,
   "metadata": {},
   "outputs": [
    {
     "evalue": "Error: The Jupyter notebook server failed to launch in time",
     "output_type": "error"
    }
   ],
   "source": [
    "## Bag of words"
   ]
  },
  {
   "cell_type": "code",
   "execution_count": 13,
   "metadata": {},
   "outputs": [],
   "source": [
    "article = '\\'\\'\\'Debugging\\'\\'\\' is the process of finding and resolving of defects that prevent correct operation of computer software or a system.  \\n\\nNumerous books have been written about debugging (see below: #Further reading|Further reading), as it involves numerous aspects, including interactive debugging, control flow, integration testing, Logfile|log files, monitoring (Application monitoring|application, System Monitoring|system), memory dumps, Profiling (computer programming)|profiling, Statistical Process Control, and special design tactics to improve detection while simplifying changes.\\n\\nOrigin\\nA computer log entry from the Mark&nbsp;II, with a moth taped to the page\\n\\nThe terms \"bug\" and \"debugging\" are popularly attributed to Admiral Grace Hopper in the 1940s.[http://foldoc.org/Grace+Hopper Grace Hopper]  from FOLDOC While she was working on a Harvard Mark II|Mark II Computer at Harvard University, her associates discovered a moth stuck in a relay and thereby impeding operation, whereupon she remarked that they were \"debugging\" the system. However the term \"bug\" in the meaning of technical error dates back at least to 1878 and Thomas Edison (see software bug for a full discussion), and \"debugging\" seems to have been used as a term in aeronautics before entering the world of computers. Indeed, in an interview Grace Hopper remarked that she was not coining the term{{Citation needed|date=July 2015}}. The moth fit the already existing terminology, so it was saved.  A letter from J. Robert Oppenheimer (director of the WWII atomic bomb \"Manhattan\" project at Los Alamos, NM) used the term in a letter to Dr. Ernest Lawrence at UC Berkeley, dated October 27, 1944,http://bancroft.berkeley.edu/Exhibits/physics/images/bigscience25.jpg regarding the recruitment of additional technical staff.\\n\\nThe Oxford English Dictionary entry for \"debug\" quotes the term \"debugging\" used in reference to airplane engine testing in a 1945 article in the Journal of the Royal Aeronautical Society. An article in \"Airforce\" (June 1945 p.&nbsp;50) also refers to debugging, this time of aircraft cameras.  Hopper\\'s computer bug|bug was found on September 9, 1947. The term was not adopted by computer programmers until the early 1950s.\\nThe seminal article by GillS. Gill, [http://www.jstor.org/stable/98663 The Diagnosis of Mistakes in Programmes on the EDSAC], Proceedings of the Royal Society of London. Series A, Mathematical and Physical Sciences, Vol. 206, No. 1087 (May 22, 1951), pp. 538-554 in 1951 is the earliest in-depth discussion of programming errors, but it does not use the term \"bug\" or \"debugging\".\\nIn the Association for Computing Machinery|ACM\\'s digital library, the term \"debugging\" is first used in three papers from 1952 ACM National Meetings.Robert V. D. Campbell, [http://portal.acm.org/citation.cfm?id=609784.609786 Evolution of automatic computation], Proceedings of the 1952 ACM national meeting (Pittsburgh), p 29-32, 1952.Alex Orden, [http://portal.acm.org/citation.cfm?id=609784.609793 Solution of systems of linear inequalities on a digital computer], Proceedings of the 1952 ACM national meeting (Pittsburgh), p. 91-95, 1952.Howard B. Demuth, John B. Jackson, Edmund Klein, N. Metropolis, Walter Orvedahl, James H. Richardson, [http://portal.acm.org/citation.cfm?id=800259.808982 MANIAC], Proceedings of the 1952 ACM national meeting (Toronto), p. 13-16 Two of the three use the term in quotation marks.\\nBy 1963 \"debugging\" was a common enough term to be mentioned in passing without explanation on page 1 of the Compatible Time-Sharing System|CTSS manual.[http://www.bitsavers.org/pdf/mit/ctss/CTSS_ProgrammersGuide.pdf The Compatible Time-Sharing System], M.I.T. Press, 1963\\n\\nKidwell\\'s article \\'\\'Stalking the Elusive Computer Bug\\'\\'Peggy Aldrich Kidwell, [http://ieeexplore.ieee.org/xpl/freeabs_all.jsp?tp=&arnumber=728224&isnumber=15706 Stalking the Elusive Computer Bug], IEEE Annals of the History of Computing, 1998. discusses the etymology of \"bug\" and \"debug\" in greater detail.\\n\\nScope\\nAs software and electronic systems have become generally more complex, the various common debugging techniques have expanded with more methods to detect anomalies, assess impact, and schedule software patches or full updates to a system. The words \"anomaly\" and \"discrepancy\" can be used, as being more neutral terms, to avoid the words \"error\" and \"defect\" or \"bug\" where there might be an implication that all so-called \\'\\'errors\\'\\', \\'\\'defects\\'\\' or \\'\\'bugs\\'\\' must be fixed (at all costs). Instead, an impact assessment can be made to determine if changes to remove an \\'\\'anomaly\\'\\' (or \\'\\'discrepancy\\'\\') would be cost-effective for the system, or perhaps a scheduled new release might render the change(s) unnecessary. Not all issues are life-critical or mission-critical in a system. Also, it is important to avoid the situation where a change might be more upsetting to users, long-term, than living with the known problem(s) (where the \"cure would be worse than the disease\"). Basing decisions of the acceptability of some anomalies can avoid a culture of a \"zero-defects\" mandate, where people might be tempted to deny the existence of problems so that the result would appear as zero \\'\\'defects\\'\\'. Considering the collateral issues, such as the cost-versus-benefit impact assessment, then broader debugging techniques will expand to determine the frequency of anomalies (how often the same \"bugs\" occur) to help assess their impact to the overall system.\\n\\nTools\\nDebugging on video game consoles is usually done with special hardware such as this Xbox (console)|Xbox debug unit intended for developers.\\n\\nDebugging ranges in complexity from fixing simple errors to performing lengthy and tiresome tasks of data collection, analysis, and scheduling updates.  The debugging skill of the programmer can be a major factor in the ability to debug a problem, but the difficulty of software debugging varies greatly with the complexity of the system, and also depends, to some extent, on the programming language(s) used and the available tools, such as \\'\\'debuggers\\'\\'. Debuggers are software tools which enable the programmer to monitor the execution (computers)|execution of a program, stop it, restart it, set breakpoints, and change values in memory. The term \\'\\'debugger\\'\\' can also refer to the person who is doing the debugging.\\n\\nGenerally, high-level programming languages, such as Java (programming language)|Java, make debugging easier, because they have features such as exception handling that make real sources of erratic behaviour easier to spot. In programming languages such as C (programming language)|C or assembly language|assembly, bugs may cause silent problems such as memory corruption, and it is often difficult to see where the initial problem happened. In those cases, memory debugging|memory debugger tools may be needed.\\n\\nIn certain situations, general purpose software tools that are language specific in nature can be very useful.  These take the form of \\'\\'List of tools for static code analysis|static code analysis tools\\'\\'.  These tools look for a very specific set of known problems, some common and some rare, within the source code.  All such issues detected by these tools would rarely be picked up by a compiler or interpreter, thus they are not syntax checkers, but more semantic checkers.  Some tools claim to be able to detect 300+ unique problems. Both commercial and free tools exist in various languages.  These tools can be extremely useful when checking very large source trees, where it is impractical to do code walkthroughs.  A typical example of a problem detected would be a variable dereference that occurs \\'\\'before\\'\\' the variable is assigned a value.  Another example would be to perform strong type checking when the language does not require such.  Thus, they are better at locating likely errors, versus actual errors.  As a result, these tools have a reputation of false positives.  The old Unix \\'\\'Lint programming tool|lint\\'\\' program is an early example.\\n\\nFor debugging electronic hardware (e.g., computer hardware) as well as low-level software (e.g., BIOSes, device drivers) and firmware, instruments such as oscilloscopes, logic analyzers or in-circuit emulator|in-circuit emulators (ICEs) are often used, alone or in combination.  An ICE may perform many of the typical software debugger\\'s tasks on low-level software and firmware.\\n\\nDebugging process \\nNormally the first step in debugging is to attempt to reproduce the problem. This can be a non-trivial task, for example as with Parallel computing|parallel processes or some unusual software bugs. Also, specific user environment and usage history can make it difficult to reproduce the problem.\\n\\nAfter the bug is reproduced, the input of the program may need to be simplified to make it easier to debug. For example, a bug in a compiler can make it Crash (computing)|crash when parsing some large source file. However, after simplification of the test case, only few lines from the original source file can be sufficient to reproduce the same crash. Such simplification can be made manually, using a Divide and conquer algorithm|divide-and-conquer approach. The programmer will try to remove some parts of original test case and check if the problem still exists. When debugging the problem in a Graphical user interface|GUI, the programmer can try to skip some user interaction from the original problem description and check if remaining actions are sufficient for bugs to appear.\\n\\nAfter the test case is sufficiently simplified, a programmer can use a debugger tool to examine program states (values of variables, plus the call stack) and track down the origin of the problem(s). Alternatively, Tracing (software)|tracing can be used. In simple cases, tracing is just a few print statements, which output the values of variables at certain points of program execution.{{citation needed|date=February 2016}}\\n\\n Techniques \\n \\'\\'Interactive debugging\\'\\'\\n \\'\\'{{visible anchor|Print debugging}}\\'\\' (or tracing) is the act of watching (live or recorded) trace statements, or print statements, that indicate the flow of execution of a process. This is sometimes called \\'\\'{{visible anchor|printf debugging}}\\'\\', due to the use of the printf function in C. This kind of debugging was turned on by the command TRON in the original versions of the novice-oriented BASIC programming language. TRON stood for, \"Trace On.\" TRON caused the line numbers of each BASIC command line to print as the program ran.\\n \\'\\'Remote debugging\\'\\' is the process of debugging a program running on a system different from the debugger. To start remote debugging, a debugger connects to a remote system over a network. The debugger can then control the execution of the program on the remote system and retrieve information about its state.\\n \\'\\'Post-mortem debugging\\'\\' is debugging of the program after it has already Crash (computing)|crashed. Related techniques often include various tracing techniques (for example,[http://www.drdobbs.com/tools/185300443 Postmortem Debugging, Stephen Wormuller, Dr. Dobbs Journal, 2006]) and/or analysis of memory dump (or core dump) of the crashed process. The dump of the process could be obtained automatically by the system (for example, when process has terminated due to an unhandled exception), or by a programmer-inserted instruction, or manually by the interactive user.\\n \\'\\'\"Wolf fence\" algorithm:\\'\\' Edward Gauss described this simple but very useful and now famous algorithm in a 1982 article for communications of the ACM as follows: \"There\\'s one wolf in Alaska; how do you find it? First build a fence down the middle of the state, wait for the wolf to howl, determine which side of the fence it is on. Repeat process on that side only, until you get to the point where you can see the wolf.\"<ref name=\"communications of the ACM\">{{cite journal | title=\"Pracniques: The \"Wolf Fence\" Algorithm for Debugging\", | author=E. J. Gauss | year=1982}} This is implemented e.g. in the Git (software)|Git version control system as the command \\'\\'git bisect\\'\\', which uses the above algorithm to determine which Commit (data management)|commit introduced a particular bug.\\n \\'\\'Delta Debugging\\'\\'{{snd}} a technique of automating test case simplification.Andreas Zeller: <cite>Why Programs Fail: A Guide to Systematic Debugging</cite>, Morgan Kaufmann, 2005. ISBN 1-55860-866-4{{rp|p.123}}<!-- for redirect from \\'Saff Squeeze\\' -->\\n \\'\\'Saff Squeeze\\'\\'{{snd}} a technique of isolating failure within the test using progressive inlining of parts of the failing test.[http://www.threeriversinstitute.org/HitEmHighHitEmLow.html Kent Beck, Hit \\'em High, Hit \\'em Low: Regression Testing and the Saff Squeeze]\\n\\nDebugging for embedded systems\\nIn contrast to the general purpose computer software design environment, a primary characteristic of embedded environments is the sheer number of different platforms available to the developers (CPU architectures, vendors, operating systems and their variants). Embedded systems are, by definition, not general-purpose designs: they are typically developed for a single task (or small range of tasks), and the platform is chosen specifically to optimize that application. Not only does this fact make life tough for embedded system developers, it also makes debugging and testing of these systems harder as well, since different debugging tools are needed in different platforms.\\n\\nto identify and fix bugs in the system (e.g. logical or synchronization problems in the code, or a design error in the hardware);\\nto collect information about the operating states of the system that may then be used to analyze the system: to find ways to boost its performance or to optimize other important characteristics (e.g. energy consumption, reliability, real-time response etc.).\\n\\nAnti-debugging\\nAnti-debugging is \"the implementation of one or more techniques within computer code that hinders attempts at reverse engineering or debugging a target process\".<ref name=\"veracode-antidebugging\">{{cite web |url=http://www.veracode.com/blog/2008/12/anti-debugging-series-part-i/ |title=Anti-Debugging Series - Part I |last=Shields |first=Tyler |date=2008-12-02 |work=Veracode |accessdate=2009-03-17}} It is actively used by recognized publishers in copy protection|copy-protection schemas, but is also used by malware to complicate its detection and elimination.<ref name=\"soft-prot\">[http://people.seas.harvard.edu/~mgagnon/software_protection_through_anti_debugging.pdf Software Protection through Anti-Debugging Michael N Gagnon, Stephen Taylor, Anup Ghosh] Techniques used in anti-debugging include:\\nAPI-based: check for the existence of a debugger using system information\\nException-based: check to see if exceptions are interfered with\\nProcess and thread blocks: check whether process and thread blocks have been manipulated\\nModified code: check for code modifications made by a debugger handling software breakpoints\\nHardware- and register-based: check for hardware breakpoints and CPU registers\\nTiming and latency: check the time taken for the execution of instructions\\nDetecting and penalizing debugger<ref name=\"soft-prot\" /><!-- reference does not exist -->\\n\\nAn early example of anti-debugging existed in early versions of Microsoft Word which, if a debugger was detected, produced a message that said: \"The tree of evil bears bitter fruit. Now trashing program disk.\", after which it caused the floppy disk drive to emit alarming noises with the intent of scaring the user away from attempting it again.<ref name=\"SecurityEngineeringRA\">{{cite book | url=http://www.cl.cam.ac.uk/~rja14/book.html | author=Ross J. Anderson | title=Security Engineering | isbn = 0-471-38922-6 | page=684 }}<ref name=\"toastytech\">{{cite web | url=http://toastytech.com/guis/word1153.html | title=Microsoft Word for DOS 1.15}}\\n'"
   ]
  },
  {
   "cell_type": "code",
   "execution_count": 14,
   "metadata": {},
   "outputs": [
    {
     "name": "stdout",
     "output_type": "stream",
     "text": "[(',', 151), ('the', 150), ('.', 89), ('of', 81), (\"''\", 66), ('to', 63), ('a', 60), ('``', 47), ('in', 44), ('and', 41)]\n"
    }
   ],
   "source": [
    "# Import Counter\n",
    "from collections import Counter\n",
    "\n",
    "# Tokenize the article: tokens\n",
    "tokens = word_tokenize(article)\n",
    "\n",
    "# Convert the tokens into lowercase: lower_tokens\n",
    "lower_tokens = [s.lower() for s in tokens]\n",
    "\n",
    "# Create a Counter with the lowercase tokens: bow_simple\n",
    "bow_simple = Counter(lower_tokens)\n",
    "\n",
    "# Print the 10 most common tokens\n",
    "print(bow_simple.most_common(10))\n"
   ]
  },
  {
   "cell_type": "markdown",
   "execution_count": null,
   "metadata": {},
   "outputs": [],
   "source": [
    "## Genism"
   ]
  },
  {
   "cell_type": "code",
   "execution_count": 15,
   "metadata": {},
   "outputs": [
    {
     "ename": "ModuleNotFoundError",
     "evalue": "No module named 'gensim'",
     "output_type": "error",
     "traceback": [
      "\u001b[1;31m---------------------------------------------------------------------------\u001b[0m",
      "\u001b[1;31mModuleNotFoundError\u001b[0m                       Traceback (most recent call last)",
      "\u001b[1;32m<ipython-input-15-eeb988611b19>\u001b[0m in \u001b[0;36m<module>\u001b[1;34m\u001b[0m\n\u001b[0;32m      1\u001b[0m \u001b[1;31m# Import Dictionary\u001b[0m\u001b[1;33m\u001b[0m\u001b[1;33m\u001b[0m\u001b[1;33m\u001b[0m\u001b[0m\n\u001b[1;32m----> 2\u001b[1;33m \u001b[1;32mfrom\u001b[0m \u001b[0mgensim\u001b[0m\u001b[1;33m.\u001b[0m\u001b[0mcorpora\u001b[0m\u001b[1;33m.\u001b[0m\u001b[0mdictionary\u001b[0m \u001b[1;32mimport\u001b[0m \u001b[0mDictionary\u001b[0m\u001b[1;33m\u001b[0m\u001b[1;33m\u001b[0m\u001b[0m\n\u001b[0m\u001b[0;32m      3\u001b[0m \u001b[1;33m\u001b[0m\u001b[0m\n\u001b[0;32m      4\u001b[0m \u001b[1;31m# Create a Dictionary from the articles: dictionary\u001b[0m\u001b[1;33m\u001b[0m\u001b[1;33m\u001b[0m\u001b[1;33m\u001b[0m\u001b[0m\n\u001b[0;32m      5\u001b[0m \u001b[0mdictionary\u001b[0m \u001b[1;33m=\u001b[0m \u001b[0mDictionary\u001b[0m\u001b[1;33m(\u001b[0m\u001b[0marticles\u001b[0m\u001b[1;33m)\u001b[0m\u001b[1;33m\u001b[0m\u001b[1;33m\u001b[0m\u001b[0m\n",
      "\u001b[1;31mModuleNotFoundError\u001b[0m: No module named 'gensim'"
     ]
    }
   ],
   "source": [
    "# Import Dictionary\n",
    "from gensim.corpora.dictionary import Dictionary\n",
    "\n",
    "# Create a Dictionary from the articles: dictionary\n",
    "dictionary = Dictionary(articles)\n",
    "\n",
    "# Select the id for \"computer\": computer_id\n",
    "computer_id = dictionary.token2id.get(\"computer\")\n",
    "\n",
    "# Use computer_id with the dictionary to print the word\n",
    "print(dictionary.get(computer_id))\n",
    "\n",
    "# Create a MmCorpus: corpus\n",
    "corpus = [dictionary.doc2bow(article) for article in articles]\n",
    "\n",
    "# Print the first 10 word ids with their frequency counts from the fifth document\n",
    "print(corpus[4][:10])\n"
   ]
  },
  {
   "cell_type": "code",
   "execution_count": 0,
   "metadata": {},
   "outputs": [],
   "source": [
    "# Save the fifth document: doc\n",
    "doc = corpus[4]\n",
    "\n",
    "# Sort the doc for frequency: bow_doc\n",
    "bow_doc = sorted(doc, key=lambda w: w[1], reverse=True)\n",
    "\n",
    "# Print the top 5 words of the document alongside the count\n",
    "for word_id, word_count in bow_doc[:5]:\n",
    "    print(dictionary.get(word_id), word_count)\n",
    "    \n",
    "# Create the defaultdict: total_word_count\n",
    "total_word_count = defaultdict(int)\n",
    "for word_id, word_count in itertools.chain.from_iterable(corpus):\n",
    "    total_word_count[word_id] += word_count\n",
    "    \n",
    "# Create a sorted list from the defaultdict: sorted_word_count\n",
    "sorted_word_count = sorted(total_word_count.items(), key=lambda w: w[1], reverse=True) \n",
    "\n",
    "# Print the top 5 words across all documents alongside the count\n",
    "for word_id, word_count in sorted_word_count[:5]:\n",
    "    print(dictionary.get(word_id), word_count)"
   ]
  },
  {
   "cell_type": "markdown",
   "execution_count": null,
   "metadata": {},
   "outputs": [],
   "source": [
    "## TF-IDF Genism"
   ]
  },
  {
   "cell_type": "code",
   "execution_count": 0,
   "metadata": {},
   "outputs": [],
   "source": [
    "from IPython.display import Image\n",
    "Image(filename='TFIDF.png')"
   ]
  },
  {
   "cell_type": "markdown",
   "execution_count": 19,
   "metadata": {},
   "outputs": [
    {
     "ename": "SyntaxError",
     "evalue": "invalid syntax (<ipython-input-19-689e01faf492>, line 1)",
     "output_type": "error",
     "traceback": [
      "\u001b[1;36m  File \u001b[1;32m\"<ipython-input-19-689e01faf492>\"\u001b[1;36m, line \u001b[1;32m1\u001b[0m\n\u001b[1;33m    Named Entity Recognition\u001b[0m\n\u001b[1;37m               ^\u001b[0m\n\u001b[1;31mSyntaxError\u001b[0m\u001b[1;31m:\u001b[0m invalid syntax\n"
     ]
    }
   ],
   "source": [
    "## Named Entity Recognition"
   ]
  },
  {
   "cell_type": "code",
   "execution_count": 26,
   "metadata": {},
   "outputs": [
    {
     "name": "stdout",
     "output_type": "stream",
     "text": "(NE System/NNP)\n(NE Statistical/NNP Process/NNP Control/NNP)\n(NE Mark/NNP)\n(NE Admiral/NNP Grace/NNP Hopper/NNP)\n(NE FOLDOC/NNP)\n(NE Harvard/NNP Mark/NNP)\n(NE Harvard/NNP University/NNP)\n(NE Thomas/NNP Edison/NNP)\n(NE Robert/NNP Oppenheimer/NNP)\n(NE WWII/NNP)\n(NE Los/NNP Alamos/NNP)\n(NE UC/NNP Berkeley/NNP)\n(NE Oxford/NNP English/NNP)\n(NE Royal/NNP Aeronautical/NNP Society/NNP)\n(NE Hopper/NNP)\n(NE GillS/NNP)\n(NE Gill/NNP)\n(NE Mistakes/NNP)\n(NE EDSAC/NNP)\n(NE Royal/NNP Society/NNP)\n(NE London/NNP)\n(NE Series/NNP A/NNP)\n(NE Mathematical/NNP)\n(NE Physical/NNP Sciences/NNPS)\n(NE Vol/NNP)\n(NE ACM/NNP National/NNP)\n(NE John/NNP B./NNP Jackson/NNP)\n(NE Edmund/NNP Klein/NNP)\n(NE Walter/NNP Orvedahl/NNP)\n(NE James/NNP)\n(NE MANIAC/NNP)\n(NE Toronto/NNP)\n(NE Compatible/JJ)\n(NE Compatible/NNP)\n(NE Press/NN)\n(NE Kidwell/NNP)\n(NE Elusive/NNP Computer/NNP Bug/NNP)\n(NE Elusive/NNP Computer/NNP Bug/NNP)\n(NE IEEE/NNP Annals/NNP)\n(NE Scope/NN As/IN)\n(NE Tools/NNP Debugging/NNP)\n(NE Java/NNP)\n(NE BIOSes/NNP)\n(NE ICEs/NNP)\n(NE Parallel/NNP)\n(NE BASIC/NNP)\n(NE TRON/NNP)\n(NE TRON/NNP)\n(NE BASIC/NNP)\n(NE Stephen/NNP Wormuller/NNP)\n(NE Edward/NNP Gauss/NNP)\n(NE ACM/NNP)\n(NE Alaska/NNP)\n(NE Repeat/NNP)\n(NE ACM/NNP)\n(NE Commit/NNP)\n(NE Systematic/NNP Debugging/NNP)\n(NE Morgan/NNP Kaufmann/NNP)\n(NE ISBN/NNP)\n(NE Hit/NNP)\n(NE Hit/NNP)\n(NE Saff/NNP Squeeze/NNP)\n(NE CPU/NNP)\n(NE Series/NNP)\n(NE Software/NNP Protection/NNP)\n(NE Michael/NNP)\n(NE Stephen/NNP Taylor/NNP)\n(NE Anup/NNP Ghosh/NNP)\n(NE Process/NNP)\n(NE Modified/NNP)\n(NE CPU/NNP)\n(NE Microsoft/NNP Word/NNP)\n"
    }
   ],
   "source": [
    "# Tokenize the article into sentences: sentences\n",
    "sentences = nltk.sent_tokenize(article)\n",
    "\n",
    "# Tokenize each sentence into words: token_sentences\n",
    "token_sentences = [nltk.word_tokenize(sent) for sent in sentences]\n",
    "\n",
    "# Tag each tokenized sentence into parts of speech: pos_sentences\n",
    "pos_sentences = [nltk.pos_tag(sent) for sent in token_sentences] \n",
    "\n",
    "# Create the named entity chunks: chunked_sentences\n",
    "chunked_sentences = nltk.ne_chunk_sents(pos_sentences, binary=True)\n",
    "\n",
    "# Test for stems of the tree with 'NE' tags\n",
    "for sent in chunked_sentences:\n",
    "    for chunk in sent:\n",
    "        if hasattr(chunk, \"label\") and chunk.label() == \"NE\":\n",
    "            print(chunk)\n"
   ]
  },
  {
   "cell_type": "code",
   "execution_count": null,
   "metadata": {},
   "outputs": [],
   "source": [
    "from collections import defaultdict\n",
    "# Create the defaultdict: ner_categories\n",
    "ner_categories = defaultdict(int)\n",
    "\n",
    "# Create the nested for loop\n",
    "for sent in chunked_sentences:\n",
    "    for chunk in sent:\n",
    "        if hasattr(chunk, 'label'):\n",
    "            ner_categories[chunk.label()] += 1\n",
    "            \n",
    "# Create a list from the dictionary keys for the chart labels: labels\n",
    "labels = list(ner_categories.keys())\n",
    "\n",
    "# Create a list of the values: values\n",
    "values = [ner_categories.get(v) for v in labels]\n",
    "\n",
    "# Create the pie chart\n",
    "plt.pie(values, labels=labels, autopct='%1.1f%%', startangle=140)\n",
    "\n",
    "# Display the chart\n",
    "plt.show()"
   ]
  },
  {
   "cell_type": "code",
   "execution_count": 29,
   "metadata": {},
   "outputs": [],
   "source": [
    "!pip install spacy\n",
    "# Import spacy\n",
    "import spacy\n",
    "\n",
    "# Instantiate the English model: nlp\n",
    "nlp = spacy.load('en')\n",
    "\n",
    "# Create a new document: doc\n",
    "doc = nlp(article)\n",
    "\n",
    "# Print all of the found entities and their labels\n",
    "for ent in doc.ents:\n",
    "    print(ent, ent.label_)"
   ]
  },
  {
   "cell_type": "code",
   "execution_count": null,
   "metadata": {},
   "outputs": [],
   "source": []
  },
  {
   "cell_type": "code",
   "execution_count": null,
   "metadata": {},
   "outputs": [],
   "source": []
  },
  {
   "cell_type": "code",
   "execution_count": null,
   "metadata": {},
   "outputs": [],
   "source": []
  }
 ]
}