{
 "nbformat": 4,
 "nbformat_minor": 2,
 "metadata": {
  "language_info": {
   "name": "python",
   "codemirror_mode": {
    "name": "ipython",
    "version": 3
   },
   "version": "3.7.3-final"
  },
  "orig_nbformat": 2,
  "file_extension": ".py",
  "mimetype": "text/x-python",
  "name": "python",
  "npconvert_exporter": "python",
  "pygments_lexer": "ipython3",
  "version": 3,
  "kernelspec": {
   "name": "python37364bitcontinuumvirtualenv10ad6c9323604c99838282ece7da5e87",
   "display_name": "Python 3.7.3 64-bit ('Continuum': virtualenv)"
  }
 },
 "cells": [
  {
   "cell_type": "markdown",
   "execution_count": null,
   "metadata": {},
   "outputs": [],
   "source": [
    "## Import Packages"
   ]
  },
  {
   "cell_type": "code",
   "execution_count": 84,
   "metadata": {},
   "outputs": [
    {
     "name": "stderr",
     "output_type": "stream",
     "text": "[nltk_data] Downloading package punkt to\n[nltk_data]     C:\\Users\\mr14290\\AppData\\Roaming\\nltk_data...\n[nltk_data]   Package punkt is already up-to-date!\n"
    },
    {
     "data": {
      "text/plain": "True"
     },
     "execution_count": 84,
     "metadata": {},
     "output_type": "execute_result"
    }
   ],
   "source": [
    "import matplotlib.pyplot as plt\n",
    "import re\n",
    "# Import necessary modules\n",
    "import nltk\n",
    "from nltk.tokenize import word_tokenize\n",
    "from nltk.tokenize import sent_tokenize\n",
    "from nltk.tokenize import regexp_tokenize\n",
    "from nltk.tokenize import TweetTokenizer\n",
    "nltk.download('punkt')"
   ]
  },
  {
   "cell_type": "markdown",
   "execution_count": null,
   "metadata": {},
   "outputs": [],
   "source": [
    "# Regular expressions & word tokenization"
   ]
  },
  {
   "cell_type": "markdown",
   "execution_count": null,
   "metadata": {},
   "outputs": [],
   "source": [
    "## Tokenize"
   ]
  },
  {
   "cell_type": "code",
   "execution_count": 85,
   "metadata": {},
   "outputs": [],
   "source": [
    "my_string = \"Let's write RegEx!  Won't that be fun?  I sure think so.  Can you find 4 sentences?  Or perhaps, all 19 words?\""
   ]
  },
  {
   "cell_type": "code",
   "execution_count": 86,
   "metadata": {},
   "outputs": [
    {
     "name": "stdout",
     "output_type": "stream",
     "text": "[\"Let's write RegEx\", \"  Won't that be fun\", '  I sure think so', '  Can you find 4 sentences', '  Or perhaps, all 19 words', '']\n['Let', 'RegEx', 'Won', 'Can', 'Or']\n[\"Let's\", 'write', 'RegEx!', \"Won't\", 'that', 'be', 'fun?', 'I', 'sure', 'think', 'so.', 'Can', 'you', 'find', '4', 'sentences?', 'Or', 'perhaps,', 'all', '19', 'words?']\n['4', '19']\n"
    }
   ],
   "source": [
    "# Write a pattern to match sentence endings: sentence_endings\n",
    "sentence_endings = \"[.?!]\"\n",
    "\n",
    "# Split my_string on sentence endings and print the result\n",
    "print(re.split(sentence_endings,my_string))\n",
    "\n",
    "# Find all capitalized words in my_string and print the result\n",
    "capitalized_words = r\"[A-Z]\\w+\"\n",
    "print(re.findall(capitalized_words, my_string))\n",
    "\n",
    "# Split my_string on spaces and print the result\n",
    "spaces = r\"\\s+\"\n",
    "print(re.split(spaces,my_string))\n",
    "\n",
    "# Find all digits in my_string and print the result\n",
    "digits = r\"\\d+\"\n",
    "print(re.findall(digits, my_string))"
   ]
  },
  {
   "cell_type": "code",
   "execution_count": 87,
   "metadata": {},
   "outputs": [],
   "source": [
    "scene_one = \"SCENE 1: [wind] [clop clop clop] \\nKING ARTHUR: Whoa there!  [clop clop clop] \\nSOLDIER #1: Halt!  Who goes there?\\nARTHUR: It is I, Arthur, son of Uther Pendragon, from the castle of Camelot.  King of the Britons, defeator of the Saxons, sovereign of all England!\\nSOLDIER #1: Pull the other one!\\nARTHUR: I am, ...  and this is my trusty servant Patsy.  We have ridden the length and breadth of the land in search of knights who will join me in my court at Camelot.  I must speak with your lord and master.\\nSOLDIER #1: What?  Ridden on a horse?\\nARTHUR: Yes!\\nSOLDIER #1: You're using coconuts!\\nARTHUR: What?\\nSOLDIER #1: You've got two empty halves of coconut and you're bangin' 'em together.\\nARTHUR: So?  We have ridden since the snows of winter covered this land, through the kingdom of Mercea, through--\\nSOLDIER #1: Where'd you get the coconuts?\\nARTHUR: We found them.\\nSOLDIER #1: Found them?  In Mercea?  The coconut's tropical!\\nARTHUR: What do you mean?\\nSOLDIER #1: Well, this is a temperate zone.\\nARTHUR: The swallow may fly south with the sun or the house martin or the plover may seek warmer climes in winter, yet these are not strangers to our land?\\nSOLDIER #1: Are you suggesting coconuts migrate?\\nARTHUR: Not at all.  They could be carried.\\nSOLDIER #1: What?  A swallow carrying a coconut?\\nARTHUR: It could grip it by the husk!\\nSOLDIER #1: It's not a question of where he grips it!  It's a simple question of weight ratios!  A five ounce bird could not carry a one pound coconut.\\nARTHUR: Well, it doesn't matter.  Will you go and tell your master that Arthur from the Court of Camelot is here.\\nSOLDIER #1: Listen.  In order to maintain air-speed velocity, a swallow needs to beat its wings forty-three times every second, right?\\nARTHUR: Please!\\nSOLDIER #1: Am I right?\\nARTHUR: I'm not interested!\\nSOLDIER #2: It could be carried by an African swallow!\\nSOLDIER #1: Oh, yeah, an African swallow maybe, but not a European swallow.  That's my point.\\nSOLDIER #2: Oh, yeah, I agree with that.\\nARTHUR: Will you ask your master if he wants to join my court at Camelot?!\\nSOLDIER #1: But then of course a-- African swallows are non-migratory.\\nSOLDIER #2: Oh, yeah...\\nSOLDIER #1: So they couldn't bring a coconut back anyway...  [clop clop clop] \\nSOLDIER #2: Wait a minute!  Supposing two swallows carried it together?\\nSOLDIER #1: No, they'd have to have it on a line.\\nSOLDIER #2: Well, simple!  They'd just use a strand of creeper!\\nSOLDIER #1: What, held under the dorsal guiding feathers?\\nSOLDIER #2: Well, why not?\\n\""
   ]
  },
  {
   "cell_type": "code",
   "execution_count": 88,
   "metadata": {},
   "outputs": [
    {
     "name": "stdout",
     "output_type": "stream",
     "text": "{'does', 'air-speed', 'guiding', 'using', 'trusty', 'held', 'KING', 'carry', 'Oh', 'Court', 'SCENE', 'coconut', 'swallows', \"'ve\", 'be', 'carrying', 'migrate', 'martin', 'needs', 'snows', 'tell', 'you', 'point', 'dorsal', 'then', 'land', 'Please', 'warmer', 'We', ',', '?', 'England', 'maybe', 'seek', 'pound', 'empty', 'it', 'second', 'No', 'servant', 'It', 'join', 'What', 'Found', 'under', 'coconuts', 'an', 'go', 'forty-three', 'Patsy', 'King', 'Saxons', 'defeator', 'found', 'winter', 'The', 'yeah', 'minute', 'got', 'course', 'court', \"'re\", 'strand', 'house', 'Not', 'zone', 'Uther', \"n't\", 'mean', 'ask', 'carried', 'European', 'or', 'Listen', 'Yes', 'A', 'creeper', 'he', 'Whoa', 'They', 'Ridden', 'ridden', 'clop', 'In', 'through', 'there', 'wind', 'weight', 'suggesting', ']', 'and', 'son', 'with', 'all', 'knights', 'times', 'get', 'kingdom', 'right', 'this', 'order', 'horse', 'since', 'on', '2', 'sovereign', 'line', 'Will', 'interested', 'Mercea', 'master', 'strangers', 'a', 'where', 'search', 'my', 'may', 'wants', 'bring', 'velocity', 'from', '#', 'they', 'use', '...', 'simple', 'Pull', 'of', 'these', 'That', 'You', '1', 'but', 'grip', '[', 'have', 'at', 'anyway', 'grips', 'our', 'every', 'question', 'its', 'back', 'Halt', 'will', 'castle', 'why', 'plover', 'five', 'breadth', '--', 'by', 'your', \"'d\", 'Who', 'sun', 'in', \"'em\", 'other', 'Camelot', 'ratios', 'one', 'African', 'not', 'are', 'But', 'Supposing', ':', 'SOLDIER', 'Well', 'to', 'just', 'the', 'Where', 'Wait', 'So', 'goes', 'yet', 'together', \"'\", 'beat', 'that', '!', 'I', 'must', 'Are', 'halves', 'two', 'Arthur', 'speak', 'bangin', 'matter', 'husk', 'south', 'ARTHUR', 'them', 'if', 'non-migratory', 'bird', 'ounce', 'Am', 'lord', 'wings', 'length', 'am', 'Britons', 'who', 'Pendragon', 'do', 'me', 'maintain', \"'m\", 'climes', 'could', 'agree', 'covered', 'is', 'temperate', \"'s\", '.', 'tropical', 'feathers', 'swallow', 'here', 'fly'}\n"
    }
   ],
   "source": [
    "# Split scene_one into sentences: sentences\n",
    "sentences = sent_tokenize(scene_one)\n",
    "\n",
    "# # Use word_tokenize to tokenize the fourth sentence: tokenized_sent\n",
    "tokenized_sent = word_tokenize(sentences[3])\n",
    "\n",
    "# # Make a set of unique tokens in the entire scene: unique_tokens\n",
    "unique_tokens = set(word_tokenize(scene_one))\n",
    "\n",
    "# # Print the unique tokens result\n",
    "print(unique_tokens)"
   ]
  },
  {
   "cell_type": "markdown",
   "execution_count": null,
   "metadata": {},
   "outputs": [],
   "source": [
    "## Match  vs Search"
   ]
  },
  {
   "cell_type": "code",
   "execution_count": 89,
   "metadata": {},
   "outputs": [
    {
     "name": "stdout",
     "output_type": "stream",
     "text": "580 588\n"
    }
   ],
   "source": [
    "# Search for the first occurrence of \"coconuts\" in scene_one: match\n",
    "match = re.search(\"coconuts\", scene_one)\n",
    "\n",
    "# Print the start and end indexes of match\n",
    "print(match.start(), match.end())"
   ]
  },
  {
   "cell_type": "code",
   "execution_count": 90,
   "metadata": {},
   "outputs": [
    {
     "name": "stdout",
     "output_type": "stream",
     "text": "<re.Match object; span=(9, 32), match='[wind] [clop clop clop]'>\n"
    }
   ],
   "source": [
    "# Write a regular expression to search for anything in square brackets: pattern1\n",
    "pattern1 = r\"\\[.*\\]\"\n",
    "\n",
    "# Use re.search to find the first text in square brackets\n",
    "print(re.search(pattern1, scene_one))"
   ]
  },
  {
   "cell_type": "code",
   "execution_count": 91,
   "metadata": {},
   "outputs": [
    {
     "name": "stdout",
     "output_type": "stream",
     "text": "ARTHUR: It is I, Arthur, son of Uther Pendragon, from the castle of Camelot.\n<re.Match object; span=(0, 7), match='ARTHUR:'>\n"
    }
   ],
   "source": [
    "# Find the script notation at the beginning of the fourth sentence and print it\n",
    "print(sentences[3])\n",
    "pattern2 = r\"^(.+?):\"\n",
    "print(re.search(pattern2, sentences[3]))"
   ]
  },
  {
   "cell_type": "markdown",
   "execution_count": null,
   "metadata": {},
   "outputs": [],
   "source": [
    "## Choosing a Tokenizer"
   ]
  },
  {
   "cell_type": "code",
   "execution_count": 92,
   "metadata": {},
   "outputs": [
    {
     "name": "stdout",
     "output_type": "stream",
     "text": "['#nlp', '#python']\n['@datacamp', '#nlp', '#python']\n[['This', 'is', 'the', 'best', '#nlp', 'exercise', 'ive', 'found', 'online', '!', '#python'], ['#NLP', 'is', 'super', 'fun', '!', '<3', '#learning'], ['Thanks', '@datacamp', ':)', '#nlp', '#python']]\n"
    }
   ],
   "source": [
    "tweets = ['This is the best #nlp exercise ive found online! #python', '#NLP is super fun! <3 #learning', 'Thanks @datacamp :) #nlp #python']\n",
    "\n",
    "# Define a regex pattern to find hashtags: pattern1\n",
    "pattern1 = r\"#\\w+\"\n",
    "# Use the pattern on the first tweet in the tweets list\n",
    "hashtags = regexp_tokenize(tweets[0], pattern1)\n",
    "print(hashtags)\n",
    "\n",
    "# Write a pattern that matches both mentions (@) and hashtags\n",
    "pattern2 = r\"([@|#]\\w+)\"\n",
    "# Use the pattern on the last tweet in the tweets list\n",
    "mentions_hashtags = regexp_tokenize(tweets[-1], pattern2)\n",
    "print(mentions_hashtags)\n",
    "\n",
    "# Use the TweetTokenizer to tokenize all tweets into one list\n",
    "tknzr = TweetTokenizer()\n",
    "all_tokens = [tknzr.tokenize(t) for t in tweets]\n",
    "print(all_tokens)"
   ]
  },
  {
   "cell_type": "code",
   "execution_count": 93,
   "metadata": {},
   "outputs": [
    {
     "name": "stdout",
     "output_type": "stream",
     "text": "['Wann', 'gehen', 'wir', 'Pizza', 'essen', '?', '🍕', 'Und', 'fährst', 'du', 'mit', 'Über', '?', '🚕']\n['Wann', 'Pizza', 'Und', 'Über']\n['🍕', '🚕']\n"
    }
   ],
   "source": [
    "german_text = 'Wann gehen wir Pizza essen? 🍕 Und fährst du mit Über? 🚕'\n",
    "# Tokenize and print all words in german_text\n",
    "all_words = word_tokenize(german_text)\n",
    "print(all_words)\n",
    "\n",
    "# Tokenize and print only capital words\n",
    "capital_words = r\"[A-Z|Ü]\\w+\"\n",
    "print(regexp_tokenize(german_text,capital_words))\n",
    "\n",
    "# Tokenize and print only emoji\n",
    "emoji = \"['\\U0001F300-\\U0001F5FF'|'\\U0001F600-\\U0001F64F'|'\\U0001F680-\\U0001F6FF'|'\\u2600-\\u26FF\\u2700-\\u27BF']\"\n",
    "print(regexp_tokenize(german_text, emoji))"
   ]
  },
  {
   "cell_type": "markdown",
   "execution_count": null,
   "metadata": {},
   "outputs": [],
   "source": [
    "## Charting practice"
   ]
  },
  {
   "cell_type": "code",
   "execution_count": 99,
   "metadata": {},
   "outputs": [
    {
     "data": {
      "text/plain": "we will say...  \\'ni\\'.\\\\nCRONE: Agh!  Do your worst!\\\\nARTHUR: Very well!  If you will not assist us voluntarily, ...  ni!\\\\nCRONE: No!  Never!  No shrubberies!\\\\nARTHUR: Ni!\\\\nCRONE: [cough] \\\\nBEDEVERE: Nu!\\\\nARTHUR: No, no, no, no...\\\\nBEDEVERE: Nu!\\\\nARTHUR: No, it\\'s not that, it\\'s \\'ni\\'.\\\\nBEDEVERE: Nu!\\\\nARTHUR: No, no-- \\'ni\\'.  You\\'re not doing it properly.  No.\\\\nBEDEVERE: Ni!\\\\nARTHUR and BEDEVERE: Ni!\\\\nARTHUR: That\\'s it.  That\\'s it.  You\\'ve got it.\\\\nARTHUR and BEDEVERE: Ni!\\\\nCRONE: Ohh!\\\\nBEDEVERE: Ni!\\\\nARTHUR: Ni!\\\\nCRONE: Agh!\\\\nBEDEVERE: Ni!\\\\nARTHUR: Ni!\\\\nBEDEVERE: Ni!\\\\nARTHUR: Ni!\\\\nBEDEVERE: Ni!\\\\nROGER THE SHRUBBER: Are you saying \\'ni\\' to that old woman?\\\\nARTHUR: Erm, yes.\\\\nROGER: Oh, what sad times are these when passing ruffians can \\'ni\\' at will to old ladies.  There is a pestilence upon this land.  Nothing is sacred. Even those who arrange and design shrubberies are under considerable economic stress at this period in history.\\\\nARTHUR: Did you say \\'shrubberies\\'?\\\\nROGER: Yes.  Shrubberies are my trade.  I am a shrubber.  My name is Roger the Shrubber.  I arrange, design, and sell shrubberies.\\\\nBEDEVERE: Ni!\\\\nARTHUR: No!  No, no, no!  No\\\\nSCENE 19:\\\\nARTHUR: O Knights of Ni, we have brought you your shrubbery.  May we go now?\\\\nHEAD KNIGHT: It is a good shrubbery.  I like the laurels particularly.  But there is one small problem.\\\\nARTHUR: What is that?\\\\nHEAD KNIGHT: We are now...  no longer the Knights Who Say \\'Ni\\'.\\\\nKNIGHTS OF NI: Ni!  Shh!\\\\nHEAD KNIGHT: Shh!  We are now the Knights Who Say \\'Ecky-ecky-ecky-ecky-pikang-zoop-boing-goodem-zoo-owli-zhiv\\'.\\\\nRANDOM: Ni!\\\\nHEAD KNIGHT: Therefore, we must give you a test.\\\\nARTHUR: What is this test, O Knights of-- Knights Who \\'Til Recently Said \\'Ni\\'?\\\\nHEAD KNIGHT: Firstly, you must find...  another shrubbery! [dramatic chord] \\\\nARTHUR: Not another shrubbery!\\\\nRANDOM: Ni!\\\\nHEAD KNIGHT: Then, when you have found the shrubbery, you must place it here beside this shrubbery, only slightly higher so you get the two-level effect with a little path running down the middle.\\\\nKNIGHTS OF NI: A path!  A path!  A path!  Ni!  Shh!  Ni!  Ni!  Ni!  Shh!  Shh! ...\\\\nHEAD KNIGHT: Then, when you have found the shrubbery, you must cut down the mightiest tree in the forest...  with...  a herring! [dramatic chord] \\\\nARTHUR: We shall do no such thing!\\\\nHEAD KNIGHT: Oh, please!\\\\nARTHUR: Cut down a tree with a herring?  It can\\'t be done.\\\\nKNIGHTS OF NI: Aaaugh!  Aaaugh!\\\\nHEAD KNIGHT: Augh!  Ohh!  Don\\'t say that word.\\\\nARTHUR: What word?\\\\nHEAD KNIGHT: I cannot tell, suffice to say is one of the words the Knights of Ni cannot hear.\\\\nARTHUR: How can we not say the word if you don\\'t tell us what it is?\\\\nKNIGHTS OF NI: Aaaaugh!\\\\nHEAD KNIGHT: You said it again!\\\\nARTHUR: What, \\'is\\'?\\\\nKNIGHTS OF NI: Agh!  No, not \\'is\\'.\\\\nHEAD KNIGHT: No, not \\'is\\'.  You wouldn\\'t get vary far in life not saying \\'is\\'.\\\\nKNIGHTS OF NI: No, not \\'is\\'.  Not \\'is\\'.\\\\nBEDEVERE: My liege, it\\'s Sir Robin!\\\\nMINSTREL: [singing] Packing it in and packing it up, And sneaking away and buggering up, And chickening out and pissing off home, Yes, bravely he is throwing in the sponge.\\\\nARTHUR: Sir Robin!\\\\nROBIN: My liege!  It\\'s good to see you.\\\\nHEAD KNIGHT: Now he\\'s said the word!  \\\\nARTHUR: Surely you\\'ve not given up your quest for the Holy Grail?\\\\nMINSTREL: [singing] He is sneaking away and buggering up--\\\\nROBIN: Shut up!  No, no.  No.  Far from it.\\\\nHEAD KNIGHT: He said the word again!\\\\nKNIGHTS OF NI: Aaaaugh!\\\\nROBIN: I was looking for it.\\\\nKNIGHTS OF NI: Aaaaugh!\\\\nROBIN: Uh, here-- here in this forest.\\\\nARTHUR: No, it is far from this place.\\\\nKNIGHTS OF NI: Aaaaugh!\\\\nHEAD KNIGHT: Aaaaugh!  Stop saying the word!  The word...\\\\nARTHUR: Oh, stop it!\\\\nKNIGHTS OF NI: ... we cannot hear!\\\\nHEAD KNIGHT: Ow!  He said it again!\\\\nARTHUR: Patsy!\\\\nHEAD KNIGHT: Wait!  I said it!  I said it! [clop clop clop] Ooh!  I said it again!  And there again!  That\\'s three \\'it\\'s!  Ohh!\\\\nKNIGHTS OF NI: Aaaaugh\\\\nNARRATOR: And so, Arthur and Bedevere and Sir Robin set out on their search to find the enchanter of whom the old man had spoken in scene twenty-four.  Beyond the forest they met Launcelot and Galahad, and there was much rejoicing.\\\\nKNIGHTS: Yay!  Yay! [woosh] \\\\nNARRATOR: In the frozen land of Nador, they were forced to eat Robin\\'s minstrels.\\\\nMINSTREL: [high-pitched] Get back!  Eee!\\\\nNARRATOR: And there was much rejoicing.\\\\nKNIGHTS: Yay!\\\\nNARRATOR: A year passed.\\\\nCARTOON CHARACTER: [shivering] \\\\nNARRATOR: Winter changed into Spring.\\\\nCARTOON CHARACTER: Mmm, nice.\\\\nNARRATOR: Spring changed into Summer.\\\\nCARTOON CHARACTER: Oh.  Ahh.\\\\nNARRATOR: Summer changed back into Winter.\\\\nCARTOON CHARACTER: Oh?\\\\nNARRATOR: And Winter gave Spring and Summer a miss and went straight on into Autumn.\\\\nCARTOON CHARACTER: Aah. [snap] Oh!  Waa!\\\\nNARRATOR: Until one day..\\\\nSCENE 20: [King Arthur music] [clop clop clop] [music stops] [boom] \\\\nKNIGHTS: Eh.  Oh.  See it?  Oh.  Oh.\\\\nARTHUR: Knights!  Forward! [boom boom boom boom boom] [squeak] [boom boom boom boom] What manner of man are you that can summon up fire without flint or tinder?\\\\nTIM THE ENCHANTER: I...  am an enchanter.\\\\nARTHUR: By what name are you known?\\\\nTIM: There are some who call me...  Tim?\\\\nARTHUR: Greetings, Tim the Enchanter.\\\\nTIM: Greetings, King Arthur!\\\\nARTHUR: You know my name?\\\\nTIM: I do. [zoosh] You seek the Holy Grail!\\\\nARTHUR: That is our quest.  You know much that is hidden, O Tim.\\\\nTIM: Quite. [pweeng boom] [clap clap clap] \\\\nROBIN: Oh.\\\\nARTHUR: Yes, we\\'re-- we\\'re looking for the Holy Grail.  Our quest is to find the Holy Grail.\\\\nKNIGHTS: Yeah.  Yes.  It is.  It is.  Yeah.  Yup.  Yup.  Hm.\\\\nARTHUR: And so we\\'re-- we\\'re-- we\\'re-- we\\'re looking for it.\\\\nBEDEVERE: Yes, we are.\\\\nGALAHAD: Yeah.  \\\\nROBIN: We are.  We are.\\\\nBEDEVERE: We have been for some time.\\\\nROBIN: Ages.\\\\nBEDEVERE: Umhm.\\\\nARTHUR: Uh-- uh, so, uh, anything that you could do to, uh-- to help, would be...  very...  helpful.\\\\nGALAHAD: Look, can you tell us where-- [boom] \\\\nARTHUR: Fine.  Um, I don\\'t want to waste any more of your time, but, uh, I don\\'t suppose you could, uh, tell us where we might find a, um-- find a, uh-- a, um-- a, uh--\\\\nTIM: A what...?\\\\nARTHUR: A g-- a-- a g-- a g-- a-- a g--\\\\nTIM: A grail?!\\\\nARTHUR: Yes, I think so.\\\\nROBIN: Y-- y-- yes.\\\\nARTHUR: Yes.\\\\nGALAHAD: Yup.\\\\nKNIGHTS: That\\'s it...\\\\nTIM: Yes!\\\\nROBIN: Oh.\\\\nARTHUR: Oh.  Thank you.\\\\nROBIN: Ahh.\\\\nGALAHAD: Oh.  Fine.\\\\nARTHUR: Thank you.\\\\nROBIN: Splendid.\\\\nKNIGHTS: Aah... [boom pweeng boom boom] \\\\nARTHUR: Look, um, you\\'re a busy man, uh--\\\\nTIM: Yes, I can help you find the Holy Grail.\\\\nKNIGHTS: Oh, thank you.  Oh...\\\\nTIM: To the north there lies a cave-- the cave of Caerbannog-- wherein, carved in mystic runes upon the very living rock, the last words of Olfin Bedwere of Rheged... [boom] ... make plain the last resting place of the most Holy Grail.\\\\nARTHUR: Where could we find this cave, O Tim?\\\\nTIM: Follow.  But!  Follow only if ye be men of valor, for the entrance to this cave is guarded by a creature so foul, so cruel that no man yet has fought with it and lived!  Bones of full fifty men lie strewn about its lair.  So, brave knights, if you do doubt your courage or your strength, come no further, for death awaits you all with nasty, big, pointy teeth.\\\\nARTHUR: What an eccentric performance\\\\nSCENE 21: [clop clop clop] [whinny whinny] \\\\nGALAHAD: They\\'re nervous, sire.\\\\nARTHUR: Then we\\'d best leave them here and carry on on foot.  Dis-mount!\\\\nTIM: Behold the cave of Caerbannog!\\\\nARTHUR: Right!  Keep me covered.\\\\nGALAHAD: What with?\\\\nARTHUR: W-- just keep me covered.\\\\nTIM: Too late! [dramatic chord] \\\\nARTHUR: What?\\\\nTIM: There he is!\\\\nARTHUR: Where?\\\\nTIM: There!\\\\nARTHUR: What, behind the rabbit?\\\\nTIM: It is the rabbit!\\\\nARTHUR: You silly sod!\\\\nTIM: What?\\\\nARTHUR: You got us all worked up!\\\\nTIM: Well, that\\'s no ordinary rabbit.\\\\nARTHUR: Ohh.\\\\nTIM: That\\'s the most foul, cruel, and bad-tempered rodent you ever set eyes on.\\\\nROBIN: You tit!  I soiled my armor I was so scared!\\\\nTIM: Look, that rabbit\\'s got a vicious streak a mile wide; it\\'s a killer!\\\\nGALAHAD: Get stuffed!\\\\nTIM: He\\'ll do you up a treat mate!\\\\nGALAHAD: Oh, yeah?\\\\nROBIN: You mangy scots git!\\\\nTIM: I\\'m warning you!\\\\nROBIN: What\\'s he do, nibble your bum?\\\\nTIM: He\\'s got huge, sharp-- eh-- he can leap about-- look at the bones!\\\\nARTHUR: Go on, Bors.  Chop his head off!\\\\nBORS: Right!  Silly little bleeder.  One rabbit stew comin\\' right up!\\\\nTIM: Look! [squeak] \\\\nBORS: Aaaugh! [dramatic chord] [clunk] \\\\nARTHUR: Jesus Christ!\\\\nTIM: I warned you!\\\\nROBIN: I done it again!\\\\nTIM: I warned you, but did you listen to me?  Oh, no, you knew it all, didn\\'t you?  Oh, it\\'s just a harmless little bunny, isn\\'t it?  Well, it\\'s always the same.  I always tell them--\\\\nARTHUR: Oh, shut up!\\\\nTIM: Do they listen to me?\\\\nARTHUR: Right!\\\\nTIM: Oh, no...\\\\nKNIGHTS: Charge! [squeak squeak squeak] \\\\nKNIGHTS: Aaaaugh!, Aaaugh!, etc.\\\\nARTHUR: Run away!  Run away!\\\\nKNIGHTS: Run away!  Run away! ...\\\\nTIM: Ha ha ha ha!  Ha haw haw!  Ha!  Ha ha!\\\\nARTHUR: Right.  How many did we lose?\\\\nLAUNCELOT: Gawain.\\\\nGALAHAD: Ector.\\\\nARTHUR: And Bors.  That\\'s five.\\\\nGALAHAD: Three, sir.\\\\nARTHUR: Three.  Three.  And we\\'d better not risk another frontal assault.  That rabbit\\'s dynamite.\\\\nROBIN: Would it help to confuse it if we run away more?\\\\nARTHUR: Oh, shut up and go and change your armor.\\\\nGALAHAD: Let us taunt it!  It may become so cross that it will make a mistake.\\\\nARTHUR: Like what?\\\\nGALAHAD: Well...  ooh.\\\\nLAUNCELOT: Have we got bows?\\\\nARTHUR: No.\\\\nLAUNCELOT: We have the Holy Hand Grenade.\\\\nARTHUR: Yes, of course!  The Holy Hand Grenade of Antioch!  \\'Tis one of the sacred relics Brother Maynard carries with him!  Brother Maynard!  Bring up the Holy Hand Grenade!\\\\nMONKS: [chanting] Pie Iesu domine, dona eis requiem.  Pie Iesu domine, donaeis requiem.  Pie Iesu domine, dona eis requiem.  Pie Iesu domine, dona eisrequiem.\\\\nARTHUR: How does it, um-- how does it work?\\\\nLAUNCELOT: I know not, my liege.\\\\nARTHUR: Consult the Book of Armaments!\\\\nBROTHER MAYNARD: Armaments, Chapter Two, verses Nine to Twenty-one.\\\\nSECOND BROTHER: And Saint Attila raised the hand grenade up on high, saying,\\'O Lord, bless this thy hand grenade that with it thou mayest blow thine enemies to tiny bits, in thy mercy.\\' And the Lord did grin, and the people did feast upon the lambs and sloths and carp and anchovies and orangutans and breakfast cereals and fruit bats and large chu--\\\\nMAYNARD: Skip a bit, Brother.\\\\nSECOND BROTHER: And the Lord spake, saying, \\'First shalt thou take out the Holy Pin.  Then, shalt thou count to three, no more, no less.  Three shalt be the number thou shalt count, and the number of the counting shall be three.  Four shalt thou not count, nor either count thou two, excepting that thou then proceed to three.  Five is right out.  Once the number three, being the third number, be reached, then lobbest thou thy Holy Hand Grenade of Antioch towards thy foe, who, being naughty in my sight, shall snuff it.\\'\\\\nMAYNARD: Amen.\\\\nKNIGHTS: Amen.\\\\nARTHUR: Right!  One...  two...  five!\\\\nGALAHAD: Three, sir!\\\\nARTHUR: Three! [angels sing] [boom] \\\\nSCENE 22:\\\\nARTHUR: There!  Look!\\\\nLAUNCELOT: What does it say?\\\\nGALAHAD: What language is that?\\\\nARTHUR: Brother Maynard!  You are a scholar.\\\\nMAYNARD: It\\'s Aramaic!\\\\nGALAHAD: Of course!  Joseph of Arimathea!\\\\nLAUNCELOT: \\'Course!\\\\nARTHUR: What does it say?\\\\nMAYNARD: It reads, \\'Here may be found the last words of Joseph of Arimathea.  He who is valiant and pure of spirit may find the Holy Grail in the Castle of uuggggggh\\'.\\\\nARTHUR: What?\\\\nMAYNARD: \\'...  the Castle of uuggggggh\\'.\\\\nBEDEVERE: What is that?\\\\nMAYNARD: He must have died while carving it.\\\\nLAUNCELOT: Oh, come on!\\\\nMAYNARD: Well, that\\'s what it says.\\\\nARTHUR: Look, if he was dying, he wouldn\\'t bother to carve \\'aaggggh\\'.  He\\'d just say it!\\\\nMAYNARD: Well, that\\'s what\\'s carved in the rock!\\\\nGALAHAD: Perhaps he was dictating.\\\\nARTHUR: Oh, shut up.  Well, does it say anything else?\\\\nMAYNARD: No.  Just, \\'uuggggggh\\'.\\\\nLAUNCELOT: Aauuggghhh.\\\\nARTHUR: Aaauggh.\\\\nBEDEVERE: Do you suppose he meant the Camaaaaaargue?\\\\nGALAHAD: Where\\'s that?\\\\nBEDEVERE: France, I think.\\\\nLAUNCELOT: Isn\\'t there a Saint Aauuuves in Cornwall?\\\\nARTHUR: No, that\\'s Saint Ives.\\\\nLAUNCELOT: Oh, yes.  Saint Iiiives.\\\\nKNIGHTS: Iiiiives.\\\\nBEDEVERE: Oooohoohohooo!\\\\nLAUNCELOT: No, no.  \\'Aauuuuugh\\', at the back of the throat.  Aauuugh.\\\\nBEDEVERE: N-- no.  No, no, no, no.  \\'Oooooooh\\', in surprise and alarm.\\\\nLAUNCELOT: Oh, you mean sort of a \\'aaaah\\'!\\\\nBEDEVERE: Yes, but I-- aaaaaah!\\\\nARTHUR: Oooh!\\\\nGALAHAD: My God! [dramatic chord] [roar] \\\\nMAYNARD: It\\'s the legendary Black Beast of Aaauugh! [Black Beast of Aaauugh eats BROTHER MAYNARD] \\\\nBEDEVERE: That\\'s it!  That\\'s it!\\\\nARTHUR: Run away!\\\\nKNIGHTS: Run away! [roar] Run away!  Run awaaay!  Run awaaaaay! [roar] Keep running! [boom] [roar] Shh!  Shh!  Shh!  Shh!  Shh!  Shh!  Shh!  Shh! ...\\\\nBEDEVERE: We\\'ve lost him. [roar] \\\\nKNIGHTS: Aagh!\\\\nNARRATOR: As the horrendous Black Beast lunged forward, escape for Arthur and his knights seemed hopeless, when suddenly, the animator suffered a fatal heart attack.\\\\nANIMATOR: Ulk! [thump] \\\\nNARRATOR: The cartoon peril was no more.  The quest for Holy Grail could continue.\\\\nSCENE 23: [gurgle] \\\\nGALAHAD: There it is!\\\\nARTHUR: The Bridge of Death!\\\\nROBIN: Oh, great.\\\\nARTHUR: Look!  There\\'s the old man from scene twenty-four!\\\\nBEDEVERE: What is he doing here?\\\\nARTHUR: He is the keeper of the Bridge of Death.  He asks each traveller five questions--\\\\nGALAHAD: Three questions.\\\\nARTHUR: Three questions.  He who answers the five questions--\\\\nGALAHAD: Three questions.\\\\nARTHUR: Three questions may cross in safety.\\\\nROBIN: What if you get a question wrong?\\\\nARTHUR: Then you are cast into the Gorge of Eternal Peril.\\\\nROBIN: Oh, I won\\'t go.\\\\nGALAHAD: Who\\'s going to answer the questions?\\\\nARTHUR: Sir Robin!\\\\nROBIN: Yes?\\\\nARTHUR: Brave Sir Robin, you go.\\\\nROBIN: Hey!  I\\'ve got a great idea.  Why doesn\\'t Launcelot go?\\\\nLAUNCELOT: Yes.  Let me go, my liege.  I will take him single-handed.  I shall make a feint to the north-east that s--\\\\nARTHUR: No, no.  No.  Hang on!  Hang on!  Hang on!  Just answer the five questions--\\\\nGALAHAD: Three questions.\\\\nARTHUR: Three questions as best you can.  And we shall watch...  and pray.\\\\nLAUNCELOT: I understand, my liege.\\\\nARTHUR: Good luck, brave Sir Launcelot.  God be with you.\\\\nBRIDGEKEEPER: Stop!  Who would cross the Bridge of Death must answer me these questions three, ere the other side he see.\\\\nLAUNCELOT: Ask me the questions, bridgekeeper.  I am not afraid.\\\\nBRIDGEKEEPER: What is your name?\\\\nLAUNCELOT: My name is Sir Launcelot of Camelot.\\\\nBRIDGEKEEPER: What is your quest?\\\\nLAUNCELOT: To seek the Holy Grail.\\\\nBRIDGEKEEPER: What is your favorite color?\\\\nLAUNCELOT: Blue.\\\\nBRIDGEKEEPER: Right.  Off you go.\\\\nLAUNCELOT: Oh, thank you.  Thank you very much.\\\\nROBIN: That\\'s easy!\\\\nBRIDGEKEEPER: Stop!  Who approacheth the Bridge of Death must answer me these questions three, ere the other side he see.\\\\nROBIN: Ask me the questions, bridgekeeper.  I\\'m not afraid.\\\\nBRIDGEKEEPER: What is your name?\\\\nROBIN: Sir Robin of Camelot.\\\\nBRIDGEKEEPER: What is your quest?\\\\nROBIN: To seek the Holy Grail.\\\\nBRIDGEKEEPER: What is the capital of Assyria?\\\\nROBIN: I don\\'t know that!  Auuuuuuuugh!\\\\nBRIDGEKEEPER: Stop!  What is your name?\\\\nGALAHAD: Sir Galahad of Camelot.\\\\nBRIDGEKEEPER: What is your quest?\\\\nGALAHAD: I seek the Grail.\\\\nBRIDGEKEEPER: What is your favorite color?\\\\nGALAHAD: Blue.  No yel-- auuuuuuuugh!\\\\nBRIDGEKEEPER: Hee hee heh.  Stop!  What is your name?\\\\nARTHUR: It is Arthur, King of the Britons.\\\\nBRIDGEKEEPER: What is your quest?\\\\nARTHUR: To seek the Holy Grail.\\\\nBRIDGEKEEPER: What is the air-speed velocity of an unladen swallow?\\\\nARTHUR: What do you mean?  An African or European swallow?\\\\nBRIDGEKEEPER: Huh?  I-- I don\\'t know that!  Auuuuuuuugh!\\\\nBEDEVERE: How do know so much about swallows?\\\\nARTHUR: Well, you have to know these things when you\\'re a king, you know. [suspenseful music] [music suddenly stops] [intermission] [suspenseful music resumes]\\\\nSCENE 24:\\\\nARTHUR: Launcelot!  Launcelot!  Launcelot!\\\\nBEDEVERE: Launcelot!  Launcelot!\\\\nARTHUR: Launcelot! [police radio] Launcelot!\\\\nBEDEVERE: Launcelot!  Launcelot! [angels sing] [singing stops] [ethereal music] \\\\nARTHUR: The Castle Aaagh.  Our quest is at an end!  God be praised!  Almighty God, we thank Thee that Thou hast vouchsafed to us the most holy-- [twong] [baaaa] Jesus Christ! [thud] \\\\nFRENCH GUARD: Allo, dappy English k-niggets and Monsieur Arthur King, who has the brain of a duck, you know.  So, we French fellows outwit you a second time!\\\\nARTHUR: How dare you profane this place with your presence!  I command you, in the name of the Knights of Camelot, to open the doors of this sacred castle, to which God Himself has guided us!\\\\nFRENCH GUARD: How you English say, \\'I one more time, mac, unclog my nose in your direction\\', sons of a window-dresser!  So, you think you could out-clever us French folk with your silly knees-bent running about advancing behaviour?!  I wave my private parts at your aunties, you cheesy lot of second hand electric donkey-bottom biters.\\\\nARTHUR: In the name of the Lord, we demand entrance to this sacred castle!\\\\nFRENCH GUARD: No chance, English bed-wetting types.  I burst my pimples at you and call your door-opening request a silly thing, you tiny-brained wipers of other people\\'s bottoms!\\\\nARTHUR: If you do not open this door, we shall take this castle by force! [splat] In the name of God and the glory of our-- [splat] \\\\nFRENCH GUARDS: [laughing] \\\\nARTHUR: Agh.  Right!  That settles it!\\\\nFRENCH GUARD: Yes, depart a lot at this time, and cut the approaching any more or we fire arrows at the tops of your heads and make castanets out of your testicles already!  Ha ha haaa ha!\\\\nARTHUR: Walk away.  Just ignore them.\\\\nFRENCH GUARD: And now, remain gone, illegitimate-faced bugger-folk!  And, if you think you got a nasty taunting this time, you ain\\'t heard nothing yet, dappy English k-nnniggets!  Thpppt!\\\\nFRENCH GUARDS: [taunting] \\\\nARTHUR: We shall attack at once!\\\\nBEDEVERE: Yes, my liege!\\\\nARTHUR: Stand by for attack! [exciting music] [music stops] [silence] French persons!\\\\nFRENCH GUARDS: [taunting] ... Dappy! ...\\\\nARTHUR: Today the blood of many a valiant knight shall be avenged.  In the name of God, ...\\\\nFRENCH GUARDS: Hoo hoo!  Ohh, ha ha ha ha ha! ...\\\\nARTHUR: ... we shall not stop our fight \\'til each one of you lies dead, and the Holy Grail returns to those whom God has chosen!\\\\nFRENCH GUARDS: ... Ha ha ha! ...\\\\nARTHUR: Charge!\\\\nARMY OF KNIGHTS: Hooray! [police siren] \\\\nHISTORIAN\\'S WIFE: Yes.  They\\'re the ones.  I\\'m sure.\\\\nINSPECTOR: Come on.  Anybody armed must go too.\\\\nOFFICER #1: All right.  Come on.  Back.\\\\nHISTORIAN\\'S WIFE: Get that one.\\\\nOFFICER #1: Back.  Right away.  Just...  pull it off.  Come on.  Come along.\\\\nINSPECTOR: Put this man in the van.\\\\nOFFICER #1: Clear off.  Come on.\\\\nBEDEVERE: With whom?\\\\nINSPECTOR: Which one?\\\\nOFFICER #1: Oh-- this one.\\\\nINSPECTOR: Come on.  Put him in the van.\\\\nOFFICER #2: Get a blanket.\\\\nOFFICER #1: We have no hospital.\\\\nRANDOM: Ahh. [squeak] \\\\nRANDOM: Ooh.\\\\nOFFICER #1: Come on.  Back.  Riiight back.  Come on!\\\\nOFFICER #2: Run along!  Run along!\\\\nOFFICER #1: Pull that off.  My, that\\'s an offensive weapon, that is.\\\\nOFFICER #2: Come on.  Back with \\'em.  Back.  Right.  Come along.\\\\nINSPECTOR: Everything? [squeak] \\\\nOFFICER #1: All right, sonny.  That\\'s enough.  Just pack that in. [crash] \\\\nCAMERAMAN: Christ!\\\\n\"'"
     },
     "execution_count": 99,
     "metadata": {},
     "output_type": "execute_result"
    }
   ],
   "source": [
    "holy_grail = str = open('holy_grail.txt', 'r').read()\n",
    "holy_grail"
   ]
  },
  {
   "cell_type": "code",
   "execution_count": 100,
   "metadata": {},
   "outputs": [
    {
     "data": {
      "image/png": "[encoded data removed]",
      "image/svg+xml": "<?xml version=\"1.0\" encoding=\"utf-8\" standalone=\"no\"?>\r\n<!DOCTYPE svg PUBLIC \"-//W3C//DTD SVG 1.1//EN\"\r\n  \"http://www.w3.org/Graphics/SVG/1.1/DTD/svg11.dtd\">\r\n<!-- Created with matplotlib (https://matplotlib.org/) -->\r\n<svg height=\"261.19625pt\" version=\"1.1\" viewBox=\"0 0 372.103125 261.19625\" width=\"372.103125pt\" xmlns=\"http://www.w3.org/2000/svg\" xmlns:xlink=\"http://www.w3.org/1999/xlink\">\r\n <defs>\r\n  <style type=\"text/css\">\r\n*{stroke-linecap:butt;stroke-linejoin:round;white-space:pre;}\r\n  </style>\r\n </defs>\r\n <g id=\"figure_1\">\r\n  <g id=\"patch_1\">\r\n   <path d=\"M 0 261.19625 \r\nL 372.103125 261.19625 \r\nL 372.103125 0 \r\nL 0 0 \r\nz\r\n\" style=\"fill:none;\"/>\r\n  </g>\r\n  <g id=\"axes_1\">\r\n   <g id=\"patch_2\">\r\n    <path d=\"M 30.103125 224.64 \r\nL 364.903125 224.64 \r\nL 364.903125 7.2 \r\nL 30.103125 7.2 \r\nz\r\n\" style=\"fill:#ffffff;\"/>\r\n   </g>\r\n   <g id=\"patch_3\">\r\n    <path clip-path=\"url(#pf736c4ffdc)\" d=\"M 45.321307 224.64 \r\nL 75.75767 224.64 \r\nL 75.75767 224.64 \r\nL 45.321307 224.64 \r\nz\r\n\" style=\"fill:#1f77b4;\"/>\r\n   </g>\r\n   <g id=\"patch_4\">\r\n    <path clip-path=\"url(#pf736c4ffdc)\" d=\"M 75.75767 224.64 \r\nL 106.194034 224.64 \r\nL 106.194034 224.64 \r\nL 75.75767 224.64 \r\nz\r\n\" style=\"fill:#1f77b4;\"/>\r\n   </g>\r\n   <g id=\"patch_5\">\r\n    <path clip-path=\"url(#pf736c4ffdc)\" d=\"M 106.194034 224.64 \r\nL 136.630398 224.64 \r\nL 136.630398 224.64 \r\nL 106.194034 224.64 \r\nz\r\n\" style=\"fill:#1f77b4;\"/>\r\n   </g>\r\n   <g id=\"patch_6\">\r\n    <path clip-path=\"url(#pf736c4ffdc)\" d=\"M 136.630398 224.64 \r\nL 167.066761 224.64 \r\nL 167.066761 224.64 \r\nL 136.630398 224.64 \r\nz\r\n\" style=\"fill:#1f77b4;\"/>\r\n   </g>\r\n   <g id=\"patch_7\">\r\n    <path clip-path=\"url(#pf736c4ffdc)\" d=\"M 167.066761 224.64 \r\nL 197.503125 224.64 \r\nL 197.503125 224.64 \r\nL 167.066761 224.64 \r\nz\r\n\" style=\"fill:#1f77b4;\"/>\r\n   </g>\r\n   <g id=\"patch_8\">\r\n    <path clip-path=\"url(#pf736c4ffdc)\" d=\"M 197.503125 224.64 \r\nL 227.939489 224.64 \r\nL 227.939489 17.554286 \r\nL 197.503125 17.554286 \r\nz\r\n\" style=\"fill:#1f77b4;\"/>\r\n   </g>\r\n   <g id=\"patch_9\">\r\n    <path clip-path=\"url(#pf736c4ffdc)\" d=\"M 227.939489 224.64 \r\nL 258.375852 224.64 \r\nL 258.375852 224.64 \r\nL 227.939489 224.64 \r\nz\r\n\" style=\"fill:#1f77b4;\"/>\r\n   </g>\r\n   <g id=\"patch_10\">\r\n    <path clip-path=\"url(#pf736c4ffdc)\" d=\"M 258.375852 224.64 \r\nL 288.812216 224.64 \r\nL 288.812216 224.64 \r\nL 258.375852 224.64 \r\nz\r\n\" style=\"fill:#1f77b4;\"/>\r\n   </g>\r\n   <g id=\"patch_11\">\r\n    <path clip-path=\"url(#pf736c4ffdc)\" d=\"M 288.812216 224.64 \r\nL 319.24858 224.64 \r\nL 319.24858 224.64 \r\nL 288.812216 224.64 \r\nz\r\n\" style=\"fill:#1f77b4;\"/>\r\n   </g>\r\n   <g id=\"patch_12\">\r\n    <path clip-path=\"url(#pf736c4ffdc)\" d=\"M 319.24858 224.64 \r\nL 349.684943 224.64 \r\nL 349.684943 224.64 \r\nL 319.24858 224.64 \r\nz\r\n\" style=\"fill:#1f77b4;\"/>\r\n   </g>\r\n   <g id=\"matplotlib.axis_1\">\r\n    <g id=\"xtick_1\">\r\n     <g id=\"line2d_1\">\r\n      <defs>\r\n       <path d=\"M 0 0 \r\nL 0 3.5 \r\n\" id=\"m73a41d9bca\" style=\"stroke:#000000;stroke-width:0.8;\"/>\r\n      </defs>\r\n      <g>\r\n       <use style=\"stroke:#000000;stroke-width:0.8;\" x=\"75.75767\" xlink:href=\"#m73a41d9bca\" y=\"224.64\"/>\r\n      </g>\r\n     </g>\r\n     <g id=\"text_1\">\r\n      <!-- 4.6 -->\r\n      <defs>\r\n       <path d=\"M 37.796875 64.3125 \r\nL 12.890625 25.390625 \r\nL 37.796875 25.390625 \r\nz\r\nM 35.203125 72.90625 \r\nL 47.609375 72.90625 \r\nL 47.609375 25.390625 \r\nL 58.015625 25.390625 \r\nL 58.015625 17.1875 \r\nL 47.609375 17.1875 \r\nL 47.609375 0 \r\nL 37.796875 0 \r\nL 37.796875 17.1875 \r\nL 4.890625 17.1875 \r\nL 4.890625 26.703125 \r\nz\r\n\" id=\"DejaVuSans-52\"/>\r\n       <path d=\"M 10.6875 12.40625 \r\nL 21 12.40625 \r\nL 21 0 \r\nL 10.6875 0 \r\nz\r\n\" id=\"DejaVuSans-46\"/>\r\n       <path d=\"M 33.015625 40.375 \r\nQ 26.375 40.375 22.484375 35.828125 \r\nQ 18.609375 31.296875 18.609375 23.390625 \r\nQ 18.609375 15.53125 22.484375 10.953125 \r\nQ 26.375 6.390625 33.015625 6.390625 \r\nQ 39.65625 6.390625 43.53125 10.953125 \r\nQ 47.40625 15.53125 47.40625 23.390625 \r\nQ 47.40625 31.296875 43.53125 35.828125 \r\nQ 39.65625 40.375 33.015625 40.375 \r\nz\r\nM 52.59375 71.296875 \r\nL 52.59375 62.3125 \r\nQ 48.875 64.0625 45.09375 64.984375 \r\nQ 41.3125 65.921875 37.59375 65.921875 \r\nQ 27.828125 65.921875 22.671875 59.328125 \r\nQ 17.53125 52.734375 16.796875 39.40625 \r\nQ 19.671875 43.65625 24.015625 45.921875 \r\nQ 28.375 48.1875 33.59375 48.1875 \r\nQ 44.578125 48.1875 50.953125 41.515625 \r\nQ 57.328125 34.859375 57.328125 23.390625 \r\nQ 57.328125 12.15625 50.6875 5.359375 \r\nQ 44.046875 -1.421875 33.015625 -1.421875 \r\nQ 20.359375 -1.421875 13.671875 8.265625 \r\nQ 6.984375 17.96875 6.984375 36.375 \r\nQ 6.984375 53.65625 15.1875 63.9375 \r\nQ 23.390625 74.21875 37.203125 74.21875 \r\nQ 40.921875 74.21875 44.703125 73.484375 \r\nQ 48.484375 72.75 52.59375 71.296875 \r\nz\r\n\" id=\"DejaVuSans-54\"/>\r\n      </defs>\r\n      <g transform=\"translate(67.806108 239.238437)scale(0.1 -0.1)\">\r\n       <use xlink:href=\"#DejaVuSans-52\"/>\r\n       <use x=\"63.623047\" xlink:href=\"#DejaVuSans-46\"/>\r\n       <use x=\"95.410156\" xlink:href=\"#DejaVuSans-54\"/>\r\n      </g>\r\n     </g>\r\n    </g>\r\n    <g id=\"xtick_2\">\r\n     <g id=\"line2d_2\">\r\n      <g>\r\n       <use style=\"stroke:#000000;stroke-width:0.8;\" x=\"136.630398\" xlink:href=\"#m73a41d9bca\" y=\"224.64\"/>\r\n      </g>\r\n     </g>\r\n     <g id=\"text_2\">\r\n      <!-- 4.8 -->\r\n      <defs>\r\n       <path d=\"M 31.78125 34.625 \r\nQ 24.75 34.625 20.71875 30.859375 \r\nQ 16.703125 27.09375 16.703125 20.515625 \r\nQ 16.703125 13.921875 20.71875 10.15625 \r\nQ 24.75 6.390625 31.78125 6.390625 \r\nQ 38.8125 6.390625 42.859375 10.171875 \r\nQ 46.921875 13.96875 46.921875 20.515625 \r\nQ 46.921875 27.09375 42.890625 30.859375 \r\nQ 38.875 34.625 31.78125 34.625 \r\nz\r\nM 21.921875 38.8125 \r\nQ 15.578125 40.375 12.03125 44.71875 \r\nQ 8.5 49.078125 8.5 55.328125 \r\nQ 8.5 64.0625 14.71875 69.140625 \r\nQ 20.953125 74.21875 31.78125 74.21875 \r\nQ 42.671875 74.21875 48.875 69.140625 \r\nQ 55.078125 64.0625 55.078125 55.328125 \r\nQ 55.078125 49.078125 51.53125 44.71875 \r\nQ 48 40.375 41.703125 38.8125 \r\nQ 48.828125 37.15625 52.796875 32.3125 \r\nQ 56.78125 27.484375 56.78125 20.515625 \r\nQ 56.78125 9.90625 50.3125 4.234375 \r\nQ 43.84375 -1.421875 31.78125 -1.421875 \r\nQ 19.734375 -1.421875 13.25 4.234375 \r\nQ 6.78125 9.90625 6.78125 20.515625 \r\nQ 6.78125 27.484375 10.78125 32.3125 \r\nQ 14.796875 37.15625 21.921875 38.8125 \r\nz\r\nM 18.3125 54.390625 \r\nQ 18.3125 48.734375 21.84375 45.5625 \r\nQ 25.390625 42.390625 31.78125 42.390625 \r\nQ 38.140625 42.390625 41.71875 45.5625 \r\nQ 45.3125 48.734375 45.3125 54.390625 \r\nQ 45.3125 60.0625 41.71875 63.234375 \r\nQ 38.140625 66.40625 31.78125 66.40625 \r\nQ 25.390625 66.40625 21.84375 63.234375 \r\nQ 18.3125 60.0625 18.3125 54.390625 \r\nz\r\n\" id=\"DejaVuSans-56\"/>\r\n      </defs>\r\n      <g transform=\"translate(128.678835 239.238437)scale(0.1 -0.1)\">\r\n       <use xlink:href=\"#DejaVuSans-52\"/>\r\n       <use x=\"63.623047\" xlink:href=\"#DejaVuSans-46\"/>\r\n       <use x=\"95.410156\" xlink:href=\"#DejaVuSans-56\"/>\r\n      </g>\r\n     </g>\r\n    </g>\r\n    <g id=\"xtick_3\">\r\n     <g id=\"line2d_3\">\r\n      <g>\r\n       <use style=\"stroke:#000000;stroke-width:0.8;\" x=\"197.503125\" xlink:href=\"#m73a41d9bca\" y=\"224.64\"/>\r\n      </g>\r\n     </g>\r\n     <g id=\"text_3\">\r\n      <!-- 5.0 -->\r\n      <defs>\r\n       <path d=\"M 10.796875 72.90625 \r\nL 49.515625 72.90625 \r\nL 49.515625 64.59375 \r\nL 19.828125 64.59375 \r\nL 19.828125 46.734375 \r\nQ 21.96875 47.46875 24.109375 47.828125 \r\nQ 26.265625 48.1875 28.421875 48.1875 \r\nQ 40.625 48.1875 47.75 41.5 \r\nQ 54.890625 34.8125 54.890625 23.390625 \r\nQ 54.890625 11.625 47.5625 5.09375 \r\nQ 40.234375 -1.421875 26.90625 -1.421875 \r\nQ 22.3125 -1.421875 17.546875 -0.640625 \r\nQ 12.796875 0.140625 7.71875 1.703125 \r\nL 7.71875 11.625 \r\nQ 12.109375 9.234375 16.796875 8.0625 \r\nQ 21.484375 6.890625 26.703125 6.890625 \r\nQ 35.15625 6.890625 40.078125 11.328125 \r\nQ 45.015625 15.765625 45.015625 23.390625 \r\nQ 45.015625 31 40.078125 35.4375 \r\nQ 35.15625 39.890625 26.703125 39.890625 \r\nQ 22.75 39.890625 18.8125 39.015625 \r\nQ 14.890625 38.140625 10.796875 36.28125 \r\nz\r\n\" id=\"DejaVuSans-53\"/>\r\n       <path d=\"M 31.78125 66.40625 \r\nQ 24.171875 66.40625 20.328125 58.90625 \r\nQ 16.5 51.421875 16.5 36.375 \r\nQ 16.5 21.390625 20.328125 13.890625 \r\nQ 24.171875 6.390625 31.78125 6.390625 \r\nQ 39.453125 6.390625 43.28125 13.890625 \r\nQ 47.125 21.390625 47.125 36.375 \r\nQ 47.125 51.421875 43.28125 58.90625 \r\nQ 39.453125 66.40625 31.78125 66.40625 \r\nz\r\nM 31.78125 74.21875 \r\nQ 44.046875 74.21875 50.515625 64.515625 \r\nQ 56.984375 54.828125 56.984375 36.375 \r\nQ 56.984375 17.96875 50.515625 8.265625 \r\nQ 44.046875 -1.421875 31.78125 -1.421875 \r\nQ 19.53125 -1.421875 13.0625 8.265625 \r\nQ 6.59375 17.96875 6.59375 36.375 \r\nQ 6.59375 54.828125 13.0625 64.515625 \r\nQ 19.53125 74.21875 31.78125 74.21875 \r\nz\r\n\" id=\"DejaVuSans-48\"/>\r\n      </defs>\r\n      <g transform=\"translate(189.551562 239.238437)scale(0.1 -0.1)\">\r\n       <use xlink:href=\"#DejaVuSans-53\"/>\r\n       <use x=\"63.623047\" xlink:href=\"#DejaVuSans-46\"/>\r\n       <use x=\"95.410156\" xlink:href=\"#DejaVuSans-48\"/>\r\n      </g>\r\n     </g>\r\n    </g>\r\n    <g id=\"xtick_4\">\r\n     <g id=\"line2d_4\">\r\n      <g>\r\n       <use style=\"stroke:#000000;stroke-width:0.8;\" x=\"258.375852\" xlink:href=\"#m73a41d9bca\" y=\"224.64\"/>\r\n      </g>\r\n     </g>\r\n     <g id=\"text_4\">\r\n      <!-- 5.2 -->\r\n      <defs>\r\n       <path d=\"M 19.1875 8.296875 \r\nL 53.609375 8.296875 \r\nL 53.609375 0 \r\nL 7.328125 0 \r\nL 7.328125 8.296875 \r\nQ 12.9375 14.109375 22.625 23.890625 \r\nQ 32.328125 33.6875 34.8125 36.53125 \r\nQ 39.546875 41.84375 41.421875 45.53125 \r\nQ 43.3125 49.21875 43.3125 52.78125 \r\nQ 43.3125 58.59375 39.234375 62.25 \r\nQ 35.15625 65.921875 28.609375 65.921875 \r\nQ 23.96875 65.921875 18.8125 64.3125 \r\nQ 13.671875 62.703125 7.8125 59.421875 \r\nL 7.8125 69.390625 \r\nQ 13.765625 71.78125 18.9375 73 \r\nQ 24.125 74.21875 28.421875 74.21875 \r\nQ 39.75 74.21875 46.484375 68.546875 \r\nQ 53.21875 62.890625 53.21875 53.421875 \r\nQ 53.21875 48.921875 51.53125 44.890625 \r\nQ 49.859375 40.875 45.40625 35.40625 \r\nQ 44.1875 33.984375 37.640625 27.21875 \r\nQ 31.109375 20.453125 19.1875 8.296875 \r\nz\r\n\" id=\"DejaVuSans-50\"/>\r\n      </defs>\r\n      <g transform=\"translate(250.42429 239.238437)scale(0.1 -0.1)\">\r\n       <use xlink:href=\"#DejaVuSans-53\"/>\r\n       <use x=\"63.623047\" xlink:href=\"#DejaVuSans-46\"/>\r\n       <use x=\"95.410156\" xlink:href=\"#DejaVuSans-50\"/>\r\n      </g>\r\n     </g>\r\n    </g>\r\n    <g id=\"xtick_5\">\r\n     <g id=\"line2d_5\">\r\n      <g>\r\n       <use style=\"stroke:#000000;stroke-width:0.8;\" x=\"319.24858\" xlink:href=\"#m73a41d9bca\" y=\"224.64\"/>\r\n      </g>\r\n     </g>\r\n     <g id=\"text_5\">\r\n      <!-- 5.4 -->\r\n      <g transform=\"translate(311.297017 239.238437)scale(0.1 -0.1)\">\r\n       <use xlink:href=\"#DejaVuSans-53\"/>\r\n       <use x=\"63.623047\" xlink:href=\"#DejaVuSans-46\"/>\r\n       <use x=\"95.410156\" xlink:href=\"#DejaVuSans-52\"/>\r\n      </g>\r\n     </g>\r\n    </g>\r\n    <g id=\"text_6\">\r\n     <!-- +1.125e4 -->\r\n     <defs>\r\n      <path d=\"M 46 62.703125 \r\nL 46 35.5 \r\nL 73.1875 35.5 \r\nL 73.1875 27.203125 \r\nL 46 27.203125 \r\nL 46 0 \r\nL 37.796875 0 \r\nL 37.796875 27.203125 \r\nL 10.59375 27.203125 \r\nL 10.59375 35.5 \r\nL 37.796875 35.5 \r\nL 37.796875 62.703125 \r\nz\r\n\" id=\"DejaVuSans-43\"/>\r\n      <path d=\"M 12.40625 8.296875 \r\nL 28.515625 8.296875 \r\nL 28.515625 63.921875 \r\nL 10.984375 60.40625 \r\nL 10.984375 69.390625 \r\nL 28.421875 72.90625 \r\nL 38.28125 72.90625 \r\nL 38.28125 8.296875 \r\nL 54.390625 8.296875 \r\nL 54.390625 0 \r\nL 12.40625 0 \r\nz\r\n\" id=\"DejaVuSans-49\"/>\r\n      <path d=\"M 56.203125 29.59375 \r\nL 56.203125 25.203125 \r\nL 14.890625 25.203125 \r\nQ 15.484375 15.921875 20.484375 11.0625 \r\nQ 25.484375 6.203125 34.421875 6.203125 \r\nQ 39.59375 6.203125 44.453125 7.46875 \r\nQ 49.3125 8.734375 54.109375 11.28125 \r\nL 54.109375 2.78125 \r\nQ 49.265625 0.734375 44.1875 -0.34375 \r\nQ 39.109375 -1.421875 33.890625 -1.421875 \r\nQ 20.796875 -1.421875 13.15625 6.1875 \r\nQ 5.515625 13.8125 5.515625 26.8125 \r\nQ 5.515625 40.234375 12.765625 48.109375 \r\nQ 20.015625 56 32.328125 56 \r\nQ 43.359375 56 49.78125 48.890625 \r\nQ 56.203125 41.796875 56.203125 29.59375 \r\nz\r\nM 47.21875 32.234375 \r\nQ 47.125 39.59375 43.09375 43.984375 \r\nQ 39.0625 48.390625 32.421875 48.390625 \r\nQ 24.90625 48.390625 20.390625 44.140625 \r\nQ 15.875 39.890625 15.1875 32.171875 \r\nz\r\n\" id=\"DejaVuSans-101\"/>\r\n     </defs>\r\n     <g transform=\"translate(315.379688 251.916562)scale(0.1 -0.1)\">\r\n      <use xlink:href=\"#DejaVuSans-43\"/>\r\n      <use x=\"83.789062\" xlink:href=\"#DejaVuSans-49\"/>\r\n      <use x=\"147.412109\" xlink:href=\"#DejaVuSans-46\"/>\r\n      <use x=\"179.199219\" xlink:href=\"#DejaVuSans-49\"/>\r\n      <use x=\"242.822266\" xlink:href=\"#DejaVuSans-50\"/>\r\n      <use x=\"306.445312\" xlink:href=\"#DejaVuSans-53\"/>\r\n      <use x=\"370.068359\" xlink:href=\"#DejaVuSans-101\"/>\r\n      <use x=\"431.591797\" xlink:href=\"#DejaVuSans-52\"/>\r\n     </g>\r\n    </g>\r\n   </g>\r\n   <g id=\"matplotlib.axis_2\">\r\n    <g id=\"ytick_1\">\r\n     <g id=\"line2d_6\">\r\n      <defs>\r\n       <path d=\"M 0 0 \r\nL -3.5 0 \r\n\" id=\"m891bf8fc1e\" style=\"stroke:#000000;stroke-width:0.8;\"/>\r\n      </defs>\r\n      <g>\r\n       <use style=\"stroke:#000000;stroke-width:0.8;\" x=\"30.103125\" xlink:href=\"#m891bf8fc1e\" y=\"224.64\"/>\r\n      </g>\r\n     </g>\r\n     <g id=\"text_7\">\r\n      <!-- 0.0 -->\r\n      <g transform=\"translate(7.2 228.439219)scale(0.1 -0.1)\">\r\n       <use xlink:href=\"#DejaVuSans-48\"/>\r\n       <use x=\"63.623047\" xlink:href=\"#DejaVuSans-46\"/>\r\n       <use x=\"95.410156\" xlink:href=\"#DejaVuSans-48\"/>\r\n      </g>\r\n     </g>\r\n    </g>\r\n    <g id=\"ytick_2\">\r\n     <g id=\"line2d_7\">\r\n      <g>\r\n       <use style=\"stroke:#000000;stroke-width:0.8;\" x=\"30.103125\" xlink:href=\"#m891bf8fc1e\" y=\"183.222857\"/>\r\n      </g>\r\n     </g>\r\n     <g id=\"text_8\">\r\n      <!-- 0.2 -->\r\n      <g transform=\"translate(7.2 187.022076)scale(0.1 -0.1)\">\r\n       <use xlink:href=\"#DejaVuSans-48\"/>\r\n       <use x=\"63.623047\" xlink:href=\"#DejaVuSans-46\"/>\r\n       <use x=\"95.410156\" xlink:href=\"#DejaVuSans-50\"/>\r\n      </g>\r\n     </g>\r\n    </g>\r\n    <g id=\"ytick_3\">\r\n     <g id=\"line2d_8\">\r\n      <g>\r\n       <use style=\"stroke:#000000;stroke-width:0.8;\" x=\"30.103125\" xlink:href=\"#m891bf8fc1e\" y=\"141.805714\"/>\r\n      </g>\r\n     </g>\r\n     <g id=\"text_9\">\r\n      <!-- 0.4 -->\r\n      <g transform=\"translate(7.2 145.604933)scale(0.1 -0.1)\">\r\n       <use xlink:href=\"#DejaVuSans-48\"/>\r\n       <use x=\"63.623047\" xlink:href=\"#DejaVuSans-46\"/>\r\n       <use x=\"95.410156\" xlink:href=\"#DejaVuSans-52\"/>\r\n      </g>\r\n     </g>\r\n    </g>\r\n    <g id=\"ytick_4\">\r\n     <g id=\"line2d_9\">\r\n      <g>\r\n       <use style=\"stroke:#000000;stroke-width:0.8;\" x=\"30.103125\" xlink:href=\"#m891bf8fc1e\" y=\"100.388571\"/>\r\n      </g>\r\n     </g>\r\n     <g id=\"text_10\">\r\n      <!-- 0.6 -->\r\n      <g transform=\"translate(7.2 104.18779)scale(0.1 -0.1)\">\r\n       <use xlink:href=\"#DejaVuSans-48\"/>\r\n       <use x=\"63.623047\" xlink:href=\"#DejaVuSans-46\"/>\r\n       <use x=\"95.410156\" xlink:href=\"#DejaVuSans-54\"/>\r\n      </g>\r\n     </g>\r\n    </g>\r\n    <g id=\"ytick_5\">\r\n     <g id=\"line2d_10\">\r\n      <g>\r\n       <use style=\"stroke:#000000;stroke-width:0.8;\" x=\"30.103125\" xlink:href=\"#m891bf8fc1e\" y=\"58.971429\"/>\r\n      </g>\r\n     </g>\r\n     <g id=\"text_11\">\r\n      <!-- 0.8 -->\r\n      <g transform=\"translate(7.2 62.770647)scale(0.1 -0.1)\">\r\n       <use xlink:href=\"#DejaVuSans-48\"/>\r\n       <use x=\"63.623047\" xlink:href=\"#DejaVuSans-46\"/>\r\n       <use x=\"95.410156\" xlink:href=\"#DejaVuSans-56\"/>\r\n      </g>\r\n     </g>\r\n    </g>\r\n    <g id=\"ytick_6\">\r\n     <g id=\"line2d_11\">\r\n      <g>\r\n       <use style=\"stroke:#000000;stroke-width:0.8;\" x=\"30.103125\" xlink:href=\"#m891bf8fc1e\" y=\"17.554286\"/>\r\n      </g>\r\n     </g>\r\n     <g id=\"text_12\">\r\n      <!-- 1.0 -->\r\n      <g transform=\"translate(7.2 21.353504)scale(0.1 -0.1)\">\r\n       <use xlink:href=\"#DejaVuSans-49\"/>\r\n       <use x=\"63.623047\" xlink:href=\"#DejaVuSans-46\"/>\r\n       <use x=\"95.410156\" xlink:href=\"#DejaVuSans-48\"/>\r\n      </g>\r\n     </g>\r\n    </g>\r\n   </g>\r\n   <g id=\"patch_13\">\r\n    <path d=\"M 30.103125 224.64 \r\nL 30.103125 7.2 \r\n\" style=\"fill:none;stroke:#000000;stroke-linecap:square;stroke-linejoin:miter;stroke-width:0.8;\"/>\r\n   </g>\r\n   <g id=\"patch_14\">\r\n    <path d=\"M 364.903125 224.64 \r\nL 364.903125 7.2 \r\n\" style=\"fill:none;stroke:#000000;stroke-linecap:square;stroke-linejoin:miter;stroke-width:0.8;\"/>\r\n   </g>\r\n   <g id=\"patch_15\">\r\n    <path d=\"M 30.103125 224.64 \r\nL 364.903125 224.64 \r\n\" style=\"fill:none;stroke:#000000;stroke-linecap:square;stroke-linejoin:miter;stroke-width:0.8;\"/>\r\n   </g>\r\n   <g id=\"patch_16\">\r\n    <path d=\"M 30.103125 7.2 \r\nL 364.903125 7.2 \r\n\" style=\"fill:none;stroke:#000000;stroke-linecap:square;stroke-linejoin:miter;stroke-width:0.8;\"/>\r\n   </g>\r\n  </g>\r\n </g>\r\n <defs>\r\n  <clipPath id=\"pf736c4ffdc\">\r\n   <rect height=\"217.44\" width=\"334.8\" x=\"30.103125\" y=\"7.2\"/>\r\n  </clipPath>\r\n </defs>\r\n</svg>\r\n",
      "text/plain": "<Figure size 432x288 with 1 Axes>"
     },
     "metadata": {
      "needs_background": "light"
     },
     "output_type": "display_data"
    }
   ],
   "source": [
    "# Split the script into lines: lines\n",
    "lines = holy_grail.split('\\n')\n",
    "\n",
    "# Replace all script lines for speaker\n",
    "pattern = \"[A-Z]{2,}(\\s)?(#\\d)?([A-Z]{2,})?:\"\n",
    "lines = [re.sub(pattern, '', l) for l in lines]\n",
    "\n",
    "# Tokenize each line: tokenized_lines\n",
    "tokenized_lines = [regexp_tokenize(s,\"\\w+\") for s in lines]\n",
    "\n",
    "# Make a frequency list of lengths: line_num_words\n",
    "line_num_words = [len(t_line) for t_line in tokenized_lines]\n",
    "\n",
    "# Plot a histogram of the line lengths\n",
    "plt.hist(line_num_words)\n",
    "\n",
    "# Show the plot\n",
    "plt.show()\n"
   ]
  },
  {
   "cell_type": "markdown",
   "execution_count": null,
   "metadata": {},
   "outputs": [],
   "source": [
    "# Simple Topic Identification"
   ]
  },
  {
   "cell_type": "code",
   "execution_count": null,
   "metadata": {},
   "outputs": [],
   "source": []
  },
  {
   "cell_type": "code",
   "execution_count": null,
   "metadata": {},
   "outputs": [],
   "source": []
  },
  {
   "cell_type": "code",
   "execution_count": null,
   "metadata": {},
   "outputs": [],
   "source": []
  },
  {
   "cell_type": "code",
   "execution_count": null,
   "metadata": {},
   "outputs": [],
   "source": []
  }
 ]
}